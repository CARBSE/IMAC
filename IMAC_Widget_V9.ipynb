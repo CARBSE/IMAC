{
 "cells": [
  {
   "cell_type": "code",
   "execution_count": 1,
   "id": "878265ef",
   "metadata": {
    "extensions": {
     "jupyter_dashboards": {
      "version": 1,
      "views": {
       "default_view": {
        "hidden": true
       }
      }
     }
    }
   },
   "outputs": [],
   "source": [
    "#nbi:hide_in\n",
    "import pandas as pd\n",
    "import numpy as np\n",
    "import ipywidgets as widgets\n",
    "from IPython.display import display, clear_output, HTML\n",
    "import matplotlib.pyplot as plt\n",
    "from warnings import simplefilter\n",
    "import base64"
   ]
  },
  {
   "cell_type": "code",
   "execution_count": 2,
   "id": "ef808ea6",
   "metadata": {
    "extensions": {
     "jupyter_dashboards": {
      "version": 1,
      "views": {
       "default_view": {
        "hidden": true
       }
      }
     }
    }
   },
   "outputs": [],
   "source": [
    "simplefilter(action=\"ignore\", category=pd.errors.PerformanceWarning)\n",
    "simplefilter(action=\"ignore\", category=FutureWarning)\n",
    "plt.rcParams[\"figure.figsize\"] = (13,7.5)\n",
    "plt.rcParams.update({'font.size': 20})\n",
    "plt.rcParams['axes.grid'] = True\n",
    "plt.rcParams['lines.markersize'] = 12\n",
    "plt.rcParams['axes.titlepad'] = 20 "
   ]
  },
  {
   "cell_type": "code",
   "execution_count": 3,
   "id": "bafe8bae",
   "metadata": {
    "extensions": {
     "jupyter_dashboards": {
      "version": 1,
      "views": {
       "default_view": {
        "hidden": true
       }
      }
     }
    }
   },
   "outputs": [],
   "source": [
    "def IMAC_R(city,Range='90%',freq='Monthly'):\n",
    "    if freq=='Monthly':\n",
    "        if Range=='90%':\n",
    "            data=pd.read_csv('Raw_Cities.csv')\n",
    "            complete_date=pd.date_range(start='12-01-2021 00:00',end='12-31-2022 23:00',freq='H')\n",
    "            data=data.assign(Time=complete_date[744:])\n",
    "            dec_vals=data.iloc[-744:][city]\n",
    "            d = {'Time':complete_date[:744], city: dec_vals}\n",
    "            december_df=pd.DataFrame(data=d)\n",
    "            Complete_df=pd.concat((december_df,data))\n",
    "            Complete_df['month']=pd.to_datetime(Complete_df['Time']).dt.month\n",
    "            Complete_df['day']=pd.to_datetime(Complete_df['Time']).dt.day\n",
    "            Complete_df['year']=pd.to_datetime(Complete_df['Time']).dt.year\n",
    "            average_daily=Complete_df.groupby(['year','month','day'])[city].mean()\n",
    "            rolling_mean_30=np.round(average_daily.rolling(30).mean(),2)\n",
    "            w,x,=np.array(np.round(average_daily.iloc[31:],2)),np.array(rolling_mean_30.iloc[31:])\n",
    "            dd=pd.date_range(start='01-01-2022',end='12-31-2022',freq='D')\n",
    "            dday=dd.day\n",
    "            dmon=dd.month_name()\n",
    "            T_neutral=np.round(x*0.42+17.6,2)\n",
    "            T_plus=T_neutral+2.15\n",
    "            T_minus=T_neutral-2.15\n",
    "            numpy_array=(np.column_stack((dmon,dday,w,x,T_neutral,T_plus,T_minus)))\n",
    "            Final_Data=pd.DataFrame(numpy_array,columns=['Month','Day','Monthly Average Outdoor DBT (°C)','Rolling_mean','Monthly Average Neutral Operative Temperature TOP (°C)','TOP(°C) 90% Acceptability Upper Band','TOP(°C) 90% Acceptability Lower Band'])\n",
    "            x=np.round(Final_Data.groupby('Month',sort=False).mean(),1)\n",
    "            y=x.drop(['Day','Rolling_mean'],axis=1)\n",
    "            return y\n",
    "        elif Range=='80%':\n",
    "            data=pd.read_csv('Raw_Cities.csv')\n",
    "            complete_date=pd.date_range(start='12-01-2021 00:00',end='12-31-2022 23:00',freq='H')\n",
    "            data=data.assign(Time=complete_date[744:])\n",
    "            dec_vals=data.iloc[-744:][city]\n",
    "            d = {'Time':complete_date[:744], city: dec_vals}\n",
    "            december_df=pd.DataFrame(data=d)\n",
    "            Complete_df=pd.concat((december_df,data))\n",
    "            Complete_df['month']=pd.to_datetime(Complete_df['Time']).dt.month\n",
    "            Complete_df['day']=pd.to_datetime(Complete_df['Time']).dt.day\n",
    "            Complete_df['year']=pd.to_datetime(Complete_df['Time']).dt.year\n",
    "            average_daily=Complete_df.groupby(['year','month','day'])[city].mean()\n",
    "            rolling_mean_30=np.round(average_daily.rolling(30).mean(),2)\n",
    "            w,x,=np.array(np.round(average_daily.iloc[31:],2)),np.array(rolling_mean_30.iloc[31:])\n",
    "            dd=pd.date_range(start='01-01-2022',end='12-31-2022',freq='D')\n",
    "            dday=dd.day\n",
    "            dmon=dd.month_name()\n",
    "            T_neutral=np.round(x*0.42+17.6,2)\n",
    "            T_plus=T_neutral+3.60\n",
    "            T_minus=T_neutral-3.60\n",
    "            numpy_array=(np.column_stack((dmon,dday,w,x,T_neutral,T_plus,T_minus)))\n",
    "            Final_Data=pd.DataFrame(numpy_array,columns=['Month','Day','Monthly Average Outdoor DBT (°C)','Rolling_mean','Monthly Average Neutral Operative Temperature TOP (°C)','TOP(°C) 80% Acceptability Upper Band','TOP(°C) 80% Acceptability Lower Band'])\n",
    "            x=np.round(Final_Data.groupby('Month',sort=False).mean(),1)\n",
    "            y=x.drop(['Day','Rolling_mean'],axis=1)\n",
    "            return y\n",
    "    elif freq=='Weekly':\n",
    "        if Range=='90%':\n",
    "                data=pd.read_csv('Raw_Cities.csv')\n",
    "                complete_date=pd.date_range(start='12-01-2021 00:00',end='12-31-2022 23:00',freq='H')\n",
    "                data=data.assign(Time=complete_date[744:])\n",
    "                dec_vals=data.iloc[-744:][city]\n",
    "                d = {'Time':complete_date[:744], city: dec_vals}\n",
    "                december_df=pd.DataFrame(data=d)\n",
    "                Complete_df=pd.concat((december_df,data))\n",
    "                Complete_df['month']=pd.to_datetime(Complete_df['Time']).dt.month\n",
    "                Complete_df['day']=pd.to_datetime(Complete_df['Time']).dt.day\n",
    "                Complete_df['year']=pd.to_datetime(Complete_df['Time']).dt.year\n",
    "                average_daily=Complete_df.groupby(['year','month','day'])[city].mean()\n",
    "                rolling_mean_30=np.round(average_daily.rolling(30).mean(),2)\n",
    "                w,x,=np.array(np.round(average_daily.iloc[31:],2)),np.array(rolling_mean_30.iloc[31:])\n",
    "                dd=pd.date_range(start='01-01-2022',end='12-31-2022',freq='D')\n",
    "                dday=dd.day\n",
    "                dmon=dd.month_name()\n",
    "                dweek=dd.isocalendar().week\n",
    "                T_neutral=np.round(x*0.42+17.6,2)\n",
    "                T_plus=T_neutral+2.15\n",
    "                T_minus=T_neutral-2.15\n",
    "                numpy_array=(np.column_stack((dmon,dweek,dday,w,x,T_neutral,T_plus,T_minus)))\n",
    "                Final_Data=pd.DataFrame(numpy_array,columns=['Month','Week','Day','Weekly Average Outdoor DBT (°C)','Rolling_mean','Weekly Average Neutral Operative Temperature TOP (°C)','TOP(°C) 90% Acceptability Upper Band','TOP(°C) 90% Acceptability Lower Band'])\n",
    "                x=np.round(Final_Data.groupby('Week',sort=True).mean(),1)\n",
    "                y=x.drop(['Day','Rolling_mean'],axis=1)\n",
    "                return y\n",
    "        elif Range=='80%':\n",
    "                data=pd.read_csv('Raw_Cities.csv')\n",
    "                complete_date=pd.date_range(start='12-01-2021 00:00',end='12-31-2022 23:00',freq='H')\n",
    "                data=data.assign(Time=complete_date[744:])\n",
    "                dec_vals=data.iloc[-744:][city]\n",
    "                d = {'Time':complete_date[:744], city: dec_vals}\n",
    "                december_df=pd.DataFrame(data=d)\n",
    "                Complete_df=pd.concat((december_df,data))\n",
    "                Complete_df['month']=pd.to_datetime(Complete_df['Time']).dt.month\n",
    "                Complete_df['day']=pd.to_datetime(Complete_df['Time']).dt.day\n",
    "                Complete_df['year']=pd.to_datetime(Complete_df['Time']).dt.year\n",
    "                average_daily=Complete_df.groupby(['year','month','day'])[city].mean()\n",
    "                rolling_mean_30=np.round(average_daily.rolling(30).mean(),2)\n",
    "                w,x,=np.array(np.round(average_daily.iloc[31:],2)),np.array(rolling_mean_30.iloc[31:])\n",
    "                dd=pd.date_range(start='01-01-2022',end='12-31-2022',freq='D')\n",
    "                dday=dd.day\n",
    "                dmon=dd.month_name()\n",
    "                dweek=dd.isocalendar().week\n",
    "                T_neutral=np.round(x*0.42+17.6,2)\n",
    "                T_plus=T_neutral+3.60\n",
    "                T_minus=T_neutral-3.60\n",
    "                numpy_array=(np.column_stack((dmon,dweek,dday,w,x,T_neutral,T_plus,T_minus)))\n",
    "                Final_Data=pd.DataFrame(numpy_array,columns=['Month','Week','Day','Weekly Average Outdoor DBT (°C)','Rolling_mean','Weekly Average Neutral Operative Temperature TOP (°C)','TOP(°C) 80% Acceptability Upper Band','TOP(°C) 80% Acceptability Lower Band'])\n",
    "                x=np.round(Final_Data.groupby('Week',sort=True).mean(),1)\n",
    "                y=x.drop(['Day','Rolling_mean'],axis=1)\n",
    "                return y"
   ]
  },
  {
   "cell_type": "code",
   "execution_count": 4,
   "id": "98a65c15",
   "metadata": {
    "extensions": {
     "jupyter_dashboards": {
      "version": 1,
      "views": {
       "default_view": {
        "hidden": true
       }
      }
     }
    }
   },
   "outputs": [],
   "source": [
    "def graph_IMAC_R(city,Range='90%',freq='Monthly'):\n",
    "    if freq=='Monthly':\n",
    "        if Range=='90%':\n",
    "            x1=np.linspace(1,12,12)\n",
    "            y1=IMAC_R(city,Range='90%')['Monthly Average Outdoor DBT (°C)']\n",
    "            y2=IMAC_R(city,Range='90%')['Monthly Average Neutral Operative Temperature TOP (°C)']\n",
    "            y3=IMAC_R(city,Range='90%')['TOP(°C) 90% Acceptability Upper Band']\n",
    "            y4=IMAC_R(city,Range='90%')['TOP(°C) 90% Acceptability Lower Band']\n",
    "            plt.plot(x1,y1,ls='--',c='k',label='Monthly Average Outdoor DBT (°C)',marker='o')\n",
    "            plt.plot(x1,y2,ls='-',c='goldenrod',label='Monthly Average Neutral Operative Temperature $T_{op}$ (°C)',marker='o')\n",
    "            plt.xlabel('Month',loc='center')\n",
    "            plt.ylabel('Temperature $^{\\circ}C$',loc='center')\n",
    "            plt.fill_between(x1,y3,y4,color='wheat',alpha=0.7,label='90% Acceptability Range $T_{op}$(°C)')\n",
    "            plt.grid(alpha=0.3)\n",
    "            labels=['Jan','Feb','Mar','Apr','May','Jun','Jul','Aug','Sep','Oct','Nov','Dec']\n",
    "            plt.xticks(x1, labels, rotation='vertical')\n",
    "            plt.xlim(1,12)\n",
    "            plt.title('India Model for Adaptive Comfort for Residential Buildings – MM Buildings in '+str(city),fontsize=20)\n",
    "            plt.legend(loc = 'lower center', bbox_to_anchor = (0,-0.31,1,1),bbox_transform = plt.gcf().transFigure )\n",
    "            plt.show()\n",
    "        elif Range=='80%':\n",
    "            x1=np.linspace(1,12,12)\n",
    "            y1=IMAC_R(city,Range)['Monthly Average Outdoor DBT (°C)']\n",
    "            y2=IMAC_R(city,Range)['Monthly Average Neutral Operative Temperature TOP (°C)']\n",
    "            y3=IMAC_R(city,Range)['TOP(°C) 80% Acceptability Upper Band']\n",
    "            y4=IMAC_R(city,Range)['TOP(°C) 80% Acceptability Lower Band']\n",
    "            plt.plot(x1,y1,ls='--',c='k',label='Monthly Average Outdoor DBT (°C)',marker='o')\n",
    "            plt.plot(x1,y2,ls='-',c='goldenrod',label='Monthly Average Neutral Operative Temperature $T_{op}$ (°C)',marker='o')\n",
    "            plt.xlabel('Month',loc='center')\n",
    "            plt.ylabel('Temperature $^{\\circ}C$',loc='center')\n",
    "            plt.fill_between(x1,y3,y4,color='firebrick',alpha=0.7,label='80% Acceptability Range $T_{op}$ (°C)')\n",
    "            plt.fill_between(x1,IMAC_R(city,Range='90%')['TOP(°C) 90% Acceptability Upper Band'],IMAC_R(city,Range='90%')['TOP(°C) 90% Acceptability Lower Band'],color='wheat',alpha=0.7,label='90% Acceptability Range $T_{op}$(°C)')\n",
    "            plt.grid(alpha=0.3)\n",
    "            labels=['Jan','Feb','Mar','Apr','May','Jun','Jul','Aug','Sep','Oct','Nov','Dec']\n",
    "            plt.xticks(x1, labels, rotation='vertical')\n",
    "            plt.xlim(1,12)\n",
    "            plt.title('India Model for Adaptive Comfort for Residential Buildings – MM Buildings in '+str(city),fontsize=20)\n",
    "            plt.legend(loc = 'lower center', bbox_to_anchor = (0,-0.31,1,1),bbox_transform = plt.gcf().transFigure )\n",
    "            plt.show()\n",
    "    if freq=='Weekly':\n",
    "            if Range=='90%':\n",
    "                x1=np.linspace(1,52,52)\n",
    "                y1=IMAC_R(city,Range='90%',freq='Weekly')['Weekly Average Outdoor DBT (°C)']\n",
    "                y2=IMAC_R(city,Range='90%',freq='Weekly')['Weekly Average Neutral Operative Temperature TOP (°C)']\n",
    "                y3=IMAC_R(city,Range='90%',freq='Weekly')['TOP(°C) 90% Acceptability Upper Band']\n",
    "                y4=IMAC_R(city,Range='90%',freq='Weekly')['TOP(°C) 90% Acceptability Lower Band']\n",
    "                plt.plot(x1,y1,ls='--',c='k',label='Monthly Average Outdoor DBT (°C)',marker='o')\n",
    "                plt.plot(x1,y2,ls='-',c='goldenrod',label='Monthly Average Neutral Operative Temperature $T_{op}$ (°C)',marker='o')\n",
    "                plt.xlabel('Week',loc='center')\n",
    "                plt.ylabel('Temperature $^{\\circ}C$',loc='center')\n",
    "                plt.fill_between(x1,y3,y4,color='wheat',alpha=0.7,label='90% Acceptability Range $T_{op}$(°C)')\n",
    "                plt.grid(alpha=0.3)\n",
    "                #labels=['Jan','Feb','Mar','Apr','May','Jun','Jul','Aug','Sep','Oct','Nov','Dec']\n",
    "                plt.xticks(np.arange(1,52,2),rotation='horizontal')\n",
    "                plt.tick_params(axis='x', which='major', labelsize=15)\n",
    "                plt.xlim(1,52)\n",
    "                plt.title('India Model for Adaptive Comfort for Residential Buildings – MM Buildings in '+str(city),fontsize=20)\n",
    "                plt.legend(loc = 'lower center', bbox_to_anchor = (0,-0.31,1,1),bbox_transform = plt.gcf().transFigure )\n",
    "                plt.show()\n",
    "            elif Range=='80%':\n",
    "                x1=np.linspace(1,52,52)\n",
    "                y1=IMAC_R(city,Range,freq='Weekly')['Weekly Average Outdoor DBT (°C)']\n",
    "                y2=IMAC_R(city,Range,freq='Weekly')['Weekly Average Neutral Operative Temperature TOP (°C)']\n",
    "                y3=IMAC_R(city,Range,freq='Weekly')['TOP(°C) 80% Acceptability Upper Band']\n",
    "                y4=IMAC_R(city,Range,freq='Weekly')['TOP(°C) 80% Acceptability Lower Band']\n",
    "                plt.plot(x1,y1,ls='--',c='k',label='Monthly Average Outdoor DBT (°C)',marker='o')\n",
    "                plt.plot(x1,y2,ls='-',c='goldenrod',label='Monthly Average Neutral Operative Temperature $T_{op}$ (°C)',marker='o')\n",
    "                plt.xlabel('Week',loc='center')\n",
    "                plt.ylabel('Temperature $^{\\circ}C$',loc='center')\n",
    "                plt.fill_between(x1,y3,y4,color='firebrick',alpha=0.7,label='80% Acceptability Range $T_{op}$ (°C)')\n",
    "                plt.fill_between(x1,IMAC_R(city,Range='90%',freq='Weekly')['TOP(°C) 90% Acceptability Upper Band'],IMAC_R(city,Range='90%',freq='Weekly')['TOP(°C) 90% Acceptability Lower Band'],color='wheat',alpha=0.7,label='90% Acceptability Range $T_{op}$(°C)')\n",
    "                plt.grid(alpha=0.3)\n",
    "                #labels=['Jan','Feb','Mar','Apr','May','Jun','Jul','Aug','Sep','Oct','Nov','Dec']\n",
    "                plt.xticks(np.arange(1,52,2),rotation='horizontal')\n",
    "                plt.tick_params(axis='x', which='major', labelsize=15)\n",
    "                plt.xlim(1,52)\n",
    "                plt.title('India Model for Adaptive Comfort for Residential Buildings – MM Buildings in '+str(city),fontsize=20)\n",
    "                plt.legend(loc = 'lower center', bbox_to_anchor = (0,-0.31,1,1),bbox_transform = plt.gcf().transFigure )\n",
    "                plt.show() "
   ]
  },
  {
   "cell_type": "code",
   "execution_count": 5,
   "id": "de664c4e",
   "metadata": {
    "extensions": {
     "jupyter_dashboards": {
      "version": 1,
      "views": {
       "default_view": {
        "hidden": true
       }
      }
     }
    }
   },
   "outputs": [],
   "source": [
    "#nbi:hide_in\n",
    "def NV(T):\n",
    "    return 0.54*T+12.83\n",
    "def MM(T):\n",
    "    return 0.28*T+17.87\n",
    "def AC(T):\n",
    "    return 0.05*T+23.96"
   ]
  },
  {
   "cell_type": "code",
   "execution_count": 6,
   "id": "89115ee6",
   "metadata": {
    "extensions": {
     "jupyter_dashboards": {
      "version": 1,
      "views": {
       "default_view": {
        "hidden": true
       }
      }
     }
    }
   },
   "outputs": [],
   "source": [
    "def IMAC(city,building='all',Range='90%',freq='Monthly'):\n",
    "    data=pd.read_csv('Raw_Cities.csv')\n",
    "    complete_date=pd.date_range(start='12-01-2021 00:00',end='12-31-2022 23:00',freq='H')\n",
    "    data=data.assign(Time=complete_date[744:])\n",
    "    dec_vals=data.iloc[-744:][city]\n",
    "    d = {'Time':complete_date[:744], city: dec_vals}\n",
    "    december_df=pd.DataFrame(data=d)\n",
    "    Complete_df=pd.concat((december_df,data))\n",
    "    Complete_df['month']=pd.to_datetime(Complete_df['Time']).dt.month\n",
    "    Complete_df['day']=pd.to_datetime(Complete_df['Time']).dt.day\n",
    "    Complete_df['year']=pd.to_datetime(Complete_df['Time']).dt.year\n",
    "    average_daily=Complete_df.groupby(['year','month','day'])[city].mean()\n",
    "    rolling_mean_30=np.round(average_daily.rolling(30).mean(),2)\n",
    "    w,x,=np.array(np.round(average_daily.iloc[31:],2)),np.array(rolling_mean_30.iloc[31:])\n",
    "    dd=pd.date_range(start='01-01-2022',end='12-31-2022',freq='D')\n",
    "    dday=dd.day\n",
    "    dmon=dd.month_name()\n",
    "    dweek=dd.week\n",
    "    if freq=='Monthly':\n",
    "        if Range=='90%':\n",
    "                if building=='NV':\n",
    "                    T_neutral=np.round(NV(x),1)\n",
    "                    T_plus=T_neutral+2.4\n",
    "                    T_minus=T_neutral-2.4\n",
    "                    numpy_array=(np.column_stack((dmon,dday,w,x,T_neutral,T_plus,T_minus)))\n",
    "                    Final_Data=pd.DataFrame(numpy_array,columns=['Month','Day','Monthly Average Outdoor DBT (°C)','Rolling_mean','Monthly Average Neutral Operative Temperature TOP(°C)','TOP(°C) 90% Acceptability Upper Band','TOP(°C) 90% Acceptability Lower Band'])\n",
    "                    x=np.round(Final_Data.groupby('Month',sort=False).mean(),1)\n",
    "                    y=x.drop(['Day','Rolling_mean'],axis=1)\n",
    "                    return y\n",
    "                elif building=='MM':\n",
    "                    T_neutral=np.round(MM(x),1)\n",
    "                    T_plus=T_neutral+3.5\n",
    "                    T_minus=T_neutral-3.5\n",
    "                    numpy_array=(np.column_stack((dmon,dday,w,x,T_neutral,T_plus,T_minus)))\n",
    "                    Final_Data=pd.DataFrame(numpy_array,columns=['Month','Day','Monthly Average Outdoor DBT (°C)','Rolling_mean','Monthly Average Neutral Operative Temperature TOP(°C)','TOP(°C) 90% Acceptability Upper Band','TOP(°C) 90% Acceptability Lower Band'])\n",
    "                    x=np.round(Final_Data.groupby('Month',sort=False).mean(),1)\n",
    "                    y=x.drop(['Day','Rolling_mean'],axis=1)\n",
    "                    return y\n",
    "                elif building=='AC':\n",
    "                    T_neutral=np.round(AC(x),1)\n",
    "                    T_plus=T_neutral+2.1\n",
    "                    T_minus=T_neutral-2.1\n",
    "                    numpy_array=(np.column_stack((dmon,dday,w,x,T_neutral,T_plus,T_minus)))\n",
    "                    Final_Data=pd.DataFrame(numpy_array,columns=['Month','Day','Monthly Average Outdoor DBT (°C)','Rolling_mean','Monthly Average Neutral Operative Temperature TOP(°C)','TOP(°C) 90% Acceptability Upper Band','TOP(°C) 90% Acceptability Lower Band'])\n",
    "                    x=np.round(Final_Data.groupby('Month',sort=False).mean(),1)\n",
    "                    y=x.drop(['Day','Rolling_mean'],axis=1)\n",
    "                    return y\n",
    "                elif building=='all':\n",
    "                    T_neutral_NV=np.round(NV(x),1)\n",
    "                    T_neutral_MM=np.round(MM(x),1)\n",
    "                    T_neutral_AC=np.round(AC(x),1)\n",
    "                    T_plus_NV=T_neutral_NV+2.4\n",
    "                    T_plus_MM=T_neutral_MM+3.5\n",
    "                    T_plus_AC=T_neutral_AC+2.1\n",
    "                    T_minus_NV=T_neutral_NV-2.4\n",
    "                    T_minus_MM=T_neutral_MM-3.5\n",
    "                    T_minus_AC=T_neutral_AC-2.1\n",
    "                    lst=(dmon,dday,w,x,T_neutral_NV,T_plus_NV,T_minus_NV,T_neutral_MM,T_plus_MM,T_minus_MM,T_neutral_AC,T_plus_AC,T_minus_AC)\n",
    "                    columns=['Month','Day','Monthly Average Outdoor DBT (°C)','Rolling_mean','NV Neutral','NV TOP(°C) 90% Acceptability Upper Band','NV TOP(°C) 90% Acceptability Lower Band','MM Neutral','MM TOP(°C) 90% Acceptability Upper Band','MM TOP(°C) 90% Acceptability Lower Band','AC Neutral','AC TOP(°C) 90% Acceptability Upper Band','AC TOP(°C) 90% Acceptability Lower Band']\n",
    "                    numpy_array=(np.column_stack(lst))\n",
    "                    Final_Data=pd.DataFrame(numpy_array,columns=columns)\n",
    "                    x=np.round(Final_Data.groupby('Month',sort=False).mean(),1)\n",
    "                    y=x.drop(['Day','Rolling_mean'],axis=1)\n",
    "                    return y\n",
    "        elif Range=='80%':\n",
    "            if building=='NV':\n",
    "                        T_neutral=np.round(NV(x),1)\n",
    "                        T_plus=T_neutral+4.1\n",
    "                        T_minus=T_neutral-4.1\n",
    "                        numpy_array=(np.column_stack((dmon,dday,w,x,T_neutral,T_plus,T_minus)))\n",
    "                        Final_Data=pd.DataFrame(numpy_array,columns=['Month','Day','Monthly Average Outdoor DBT (°C)','Rolling_mean','Monthly Average Neutral Operative Temperature TOP(°C)','TOP(°C) 80% Acceptability Upper Band','TOP(°C) 80% Acceptability Lower Band'])\n",
    "                        x=np.round(Final_Data.groupby('Month',sort=False).mean(),1)\n",
    "                        y=x.drop(['Day','Rolling_mean'],axis=1)\n",
    "                        return y\n",
    "            elif building=='MM':\n",
    "                        T_neutral=np.round(MM(x),1)\n",
    "                        T_plus=T_neutral+5.9\n",
    "                        T_minus=T_neutral-5.9\n",
    "                        numpy_array=(np.column_stack((dmon,dday,w,x,T_neutral,T_plus,T_minus)))\n",
    "                        Final_Data=pd.DataFrame(numpy_array,columns=['Month','Day','Monthly Average Outdoor DBT (°C)','Rolling_mean','Monthly Average Neutral Operative Temperature TOP(°C)','TOP(°C) 80% Acceptability Upper Band','TOP(°C) 80% Acceptability Lower Band'])\n",
    "                        x=np.round(Final_Data.groupby('Month',sort=False).mean(),1)\n",
    "                        y=x.drop(['Day','Rolling_mean'],axis=1)\n",
    "                        return y\n",
    "            elif building=='AC':\n",
    "                        T_neutral=np.round(AC(x),1)\n",
    "                        T_plus=T_neutral+3.6\n",
    "                        T_minus=T_neutral-3.6\n",
    "                        numpy_array=(np.column_stack((dmon,dday,w,x,T_neutral,T_plus,T_minus)))\n",
    "                        Final_Data=pd.DataFrame(numpy_array,columns=['Month','Day','Monthly Average Outdoor DBT (°C)','Rolling_mean','Monthly Average Neutral Operative Temperature TOP(°C)','TOP(°C) 80% Acceptability Upper Band','TOP(°C) 80% Acceptability Lower Band'])\n",
    "                        x=np.round(Final_Data.groupby('Month',sort=False).mean(),1)\n",
    "                        y=x.drop(['Day','Rolling_mean'],axis=1)\n",
    "                        return y\n",
    "            elif building=='all':\n",
    "                        T_neutral_NV=np.round(NV(x),1)\n",
    "                        T_neutral_MM=np.round(MM(x),1)\n",
    "                        T_neutral_AC=np.round(AC(x),1)\n",
    "                        T_plus_NV=T_neutral_NV+4.1\n",
    "                        T_plus_MM=T_neutral_MM+5.9\n",
    "                        T_plus_AC=T_neutral_AC+3.6\n",
    "                        T_minus_NV=T_neutral_NV-4.1\n",
    "                        T_minus_MM=T_neutral_MM-5.9\n",
    "                        T_minus_AC=T_neutral_AC-3.6\n",
    "                        lst=(dmon,dday,w,x,T_neutral_NV,T_plus_NV,T_minus_NV,T_neutral_MM,T_plus_MM,T_minus_MM,T_neutral_AC,T_plus_AC,T_minus_AC)\n",
    "                        columns=['Month','Day','Monthly Average Outdoor DBT (°C)','Rolling_mean','NV Neutral','NV TOP(°C) 80% Acceptability Upper Band','NV TOP(°C) 80% Acceptability Lower Band','MM Neutral','MM TOP(°C) 80% Acceptability Upper Band','MM TOP(°C) 80% Acceptability Lower Band','AC Neutral','AC TOP(°C) 80% Acceptability Upper Band','AC TOP(°C) 80% Acceptability Lower Band']\n",
    "                        numpy_array=(np.column_stack(lst))\n",
    "                        Final_Data=pd.DataFrame(numpy_array,columns=columns)\n",
    "                        x=np.round(Final_Data.groupby('Month',sort=False).mean(),1)\n",
    "                        y=x.drop(['Day','Rolling_mean'],axis=1)\n",
    "                        return y\n",
    "    elif freq=='Weekly':\n",
    "            if Range=='90%':\n",
    "                if building=='NV':\n",
    "                    T_neutral=np.round(NV(x),1)\n",
    "                    T_plus=T_neutral+2.4\n",
    "                    T_minus=T_neutral-2.4\n",
    "                    numpy_array=(np.column_stack((dmon,dweek,dday,w,x,T_neutral,T_plus,T_minus)))\n",
    "                    Final_Data=pd.DataFrame(numpy_array,columns=['Month','Week','Day','Weekly Average Outdoor DBT (°C)','Rolling_mean','Weekly Average Neutral Operative Temperature TOP (°C)','TOP(°C) 90% Acceptability Upper Band','TOP(°C) 90% Acceptability Lower Band'])\n",
    "                    x=np.round(Final_Data.groupby('Week',sort=True).mean(),1)\n",
    "                    y=x.drop(['Day','Rolling_mean'],axis=1)\n",
    "                    return y\n",
    "                elif building=='MM':\n",
    "                    T_neutral=np.round(MM(x),1)\n",
    "                    T_plus=T_neutral+3.5\n",
    "                    T_minus=T_neutral-3.5\n",
    "                    numpy_array=(np.column_stack((dmon,dweek,dday,w,x,T_neutral,T_plus,T_minus)))\n",
    "                    Final_Data=pd.DataFrame(numpy_array,columns=['Month','Week','Day','Weekly Average Outdoor DBT (°C)','Rolling_mean','Weekly Average Neutral Operative Temperature TOP (°C)','TOP(°C) 90% Acceptability Upper Band','TOP(°C) 90% Acceptability Lower Band'])\n",
    "                    x=np.round(Final_Data.groupby('Week',sort=True).mean(),1)\n",
    "                    y=x.drop(['Day','Rolling_mean'],axis=1)\n",
    "                    return y\n",
    "                elif building=='AC':\n",
    "                    T_neutral=np.round(AC(x),1)\n",
    "                    T_plus=T_neutral+2.1\n",
    "                    T_minus=T_neutral-2.1\n",
    "                    numpy_array=(np.column_stack((dmon,dweek,dday,w,x,T_neutral,T_plus,T_minus)))\n",
    "                    Final_Data=pd.DataFrame(numpy_array,columns=['Month','Week','Day','Weekly Average Outdoor DBT (°C)','Rolling_mean','Weekly Average Neutral Operative Temperature TOP (°C)','TOP(°C) 90% Acceptability Upper Band','TOP(°C) 90% Acceptability Lower Band'])\n",
    "                    x=np.round(Final_Data.groupby('Week',sort=True).mean(),1)\n",
    "                    y=x.drop(['Day','Rolling_mean'],axis=1)\n",
    "                    return y\n",
    "                elif building=='all':\n",
    "                    T_neutral_NV=np.round(NV(x),1)\n",
    "                    T_neutral_MM=np.round(MM(x),1)\n",
    "                    T_neutral_AC=np.round(AC(x),1)\n",
    "                    T_plus_NV=T_neutral_NV+2.4\n",
    "                    T_plus_MM=T_neutral_MM+3.5\n",
    "                    T_plus_AC=T_neutral_AC+2.1\n",
    "                    T_minus_NV=T_neutral_NV-2.4\n",
    "                    T_minus_MM=T_neutral_MM-3.5\n",
    "                    T_minus_AC=T_neutral_AC-2.1\n",
    "                    lst=(dmon,dweek,dday,w,x,T_neutral_NV,T_plus_NV,T_minus_NV,T_neutral_MM,T_plus_MM,T_minus_MM,T_neutral_AC,T_plus_AC,T_minus_AC)\n",
    "                    columns=['Month','Week','Day','Weekly Average Outdoor DBT (°C)','Rolling_mean','NV Neutral','NV TOP(°C) 90% Acceptability Upper Band','NV TOP(°C) 90% Acceptability Lower Band','MM Neutral','MM TOP(°C) 90% Acceptability Upper Band','MM TOP(°C) 90% Acceptability Lower Band','AC Neutral','AC TOP(°C) 90% Acceptability Upper Band','AC TOP(°C) 90% Acceptability Lower Band']\n",
    "                    numpy_array=(np.column_stack(lst))\n",
    "                    Final_Data=pd.DataFrame(numpy_array,columns=columns)\n",
    "                    x=np.round(Final_Data.groupby('Week',sort=True).mean(),1)\n",
    "                    y=x.drop(['Day','Rolling_mean'],axis=1)\n",
    "                    return y\n",
    "            elif Range=='80%':\n",
    "                if building=='NV':\n",
    "                            T_neutral=np.round(NV(x),1)\n",
    "                            T_plus=T_neutral+4.1\n",
    "                            T_minus=T_neutral-4.1\n",
    "                            numpy_array=(np.column_stack((dmon,dweek,dday,w,x,T_neutral,T_plus,T_minus)))\n",
    "                            Final_Data=pd.DataFrame(numpy_array,columns=['Month','Week','Day','Weekly Average Outdoor DBT (°C)','Rolling_mean','Weekly Average Neutral Operative Temperature TOP(°C)','TOP(°C) 80% Acceptability Upper Band','TOP(°C) 80% Acceptability Lower Band'])\n",
    "                            x=np.round(Final_Data.groupby('Week',sort=True).mean(),1)\n",
    "                            y=x.drop(['Day','Rolling_mean'],axis=1)\n",
    "                            return y\n",
    "                elif building=='MM':\n",
    "                            T_neutral=np.round(MM(x),1)\n",
    "                            T_plus=T_neutral+5.9\n",
    "                            T_minus=T_neutral-5.9\n",
    "                            numpy_array=(np.column_stack((dmon,dweek,dday,w,x,T_neutral,T_plus,T_minus)))\n",
    "                            Final_Data=pd.DataFrame(numpy_array,columns=['Month','Week','Day','Weekly Average Outdoor DBT (°C)','Rolling_mean','Weekly Average Neutral Operative Temperature TOP(°C)','TOP(°C) 80% Acceptability Upper Band','TOP(°C) 80% Acceptability Lower Band'])\n",
    "                            x=np.round(Final_Data.groupby('Week',sort=True).mean(),1)\n",
    "                            y=x.drop(['Day','Rolling_mean'],axis=1)\n",
    "                            return y\n",
    "                elif building=='AC':\n",
    "                            T_neutral=np.round(AC(x),1)\n",
    "                            T_plus=T_neutral+3.6\n",
    "                            T_minus=T_neutral-3.6\n",
    "                            numpy_array=(np.column_stack((dmon,dweek,dday,w,x,T_neutral,T_plus,T_minus)))\n",
    "                            Final_Data=pd.DataFrame(numpy_array,columns=['Month','Week','Day','Weekly Average Outdoor DBT (°C)','Rolling_mean','Weekly Average Neutral Operative Temperature TOP(°C)','TOP(°C) 80% Acceptability Upper Band','TOP(°C) 80% Acceptability Lower Band'])\n",
    "                            x=np.round(Final_Data.groupby('Week',sort=True).mean(),1)\n",
    "                            y=x.drop(['Day','Rolling_mean'],axis=1)\n",
    "                            return y\n",
    "                elif building=='all':\n",
    "                            T_neutral_NV=np.round(NV(x),1)\n",
    "                            T_neutral_MM=np.round(MM(x),1)\n",
    "                            T_neutral_AC=np.round(AC(x),1)\n",
    "                            T_plus_NV=T_neutral_NV+4.1\n",
    "                            T_plus_MM=T_neutral_MM+5.9\n",
    "                            T_plus_AC=T_neutral_AC+3.6\n",
    "                            T_minus_NV=T_neutral_NV-4.1\n",
    "                            T_minus_MM=T_neutral_MM-5.9\n",
    "                            T_minus_AC=T_neutral_AC-3.6\n",
    "                            lst=(dmon,dweek,dday,w,x,T_neutral_NV,T_plus_NV,T_minus_NV,T_neutral_MM,T_plus_MM,T_minus_MM,T_neutral_AC,T_plus_AC,T_minus_AC)\n",
    "                            columns=['Month','Week','Day','Weekly Average Outdoor DBT (°C)','Rolling_mean','NV Neutral','NV TOP(°C) 80% Acceptability Upper Band','NV TOP(°C) 80% Acceptability Lower Band','MM Neutral','MM TOP(°C) 80% Acceptability Upper Band','MM TOP(°C) 80% Acceptability Lower Band','AC Neutral','AC TOP(°C) 80% Acceptability Upper Band','AC TOP(°C) 80% Acceptability Lower Band']\n",
    "                            numpy_array=(np.column_stack(lst))\n",
    "                            Final_Data=pd.DataFrame(numpy_array,columns=columns)\n",
    "                            x=np.round(Final_Data.groupby('Week',sort=True).mean(),1)\n",
    "                            y=x.drop(['Day','Rolling_mean'],axis=1)\n",
    "                            return y"
   ]
  },
  {
   "cell_type": "code",
   "execution_count": 7,
   "id": "58143bfc",
   "metadata": {
    "extensions": {
     "jupyter_dashboards": {
      "version": 1,
      "views": {
       "default_view": {
        "hidden": true
       }
      }
     }
    }
   },
   "outputs": [],
   "source": [
    "def graph_IMAC_Month(city,building,Range):\n",
    "    if Range=='90%':\n",
    "        if building!='all':\n",
    "            x1=np.linspace(1,12,12)\n",
    "            y1=IMAC(city,building,Range,freq='Monthly')['Monthly Average Outdoor DBT (°C)']\n",
    "            y2=IMAC(city,building,Range,freq='Monthly')['Monthly Average Neutral Operative Temperature TOP(°C)']\n",
    "            y3=IMAC(city,building,Range,freq='Monthly')['TOP(°C) 90% Acceptability Upper Band']\n",
    "            y4=IMAC(city,building,Range,freq='Monthly')['TOP(°C) 90% Acceptability Lower Band']\n",
    "            plt.plot(x1,y1,ls='--',c='k',label='Monthly Average Outdoor DBT (°C)',marker='o')\n",
    "            plt.plot(x1,y2,ls='-',c='goldenrod',label='Monthly Average Neutral Operative Temperature $T_{op}$ (°C) ',marker='o')\n",
    "            plt.xlabel('Month',loc='center')\n",
    "            plt.ylabel('Temperature $^{\\circ}C$',loc='center')\n",
    "            plt.fill_between(x1,y3,y4,color='wheat',alpha=0.7,label='$T_{op}$(°C) 90% Acceptability Range ')\n",
    "            plt.grid(alpha=0.3)\n",
    "            labels=['Jan','Feb','Mar','Apr','May','Jun','Jul','Aug','Sep','Oct','Nov','Dec']\n",
    "            plt.xticks(x1, labels, rotation='vertical')\n",
    "            plt.xlim(1,12)\n",
    "            plt.title('India Model for Adaptive Comfort for Commercial Buildings – '+str(building)+' in '+str(city),fontsize=20)\n",
    "            plt.legend(loc = 'lower center', bbox_to_anchor = (0,-0.31,1,1),bbox_transform = plt.gcf().transFigure )\n",
    "            plt.show()\n",
    "        else:\n",
    "            fig,ax=plt.subplots(3,sharex=True,sharey=True)\n",
    "            x1=np.linspace(1,12,12)\n",
    "            y1=IMAC(city,'all',Range,freq='Monthly')['Monthly Average Outdoor DBT (°C)']\n",
    "            y2=IMAC(city,'all',Range,freq='Monthly')['NV Neutral']\n",
    "            y3=IMAC(city,'all',Range,freq='Monthly')['NV TOP(°C) 90% Acceptability Upper Band']\n",
    "            y4=IMAC(city,'all',Range,freq='Monthly')['NV TOP(°C) 90% Acceptability Lower Band']\n",
    "            y5=IMAC(city,'all',Range,freq='Monthly')['MM Neutral']\n",
    "            y6=IMAC(city,'all',Range,freq='Monthly')['MM TOP(°C) 90% Acceptability Upper Band']\n",
    "            y7=IMAC(city,'all',Range,freq='Monthly')['NV TOP(°C) 90% Acceptability Lower Band']\n",
    "            y8=IMAC(city,'all',Range,freq='Monthly')['AC Neutral']\n",
    "            y9=IMAC(city,'all',Range,freq='Monthly')['AC TOP(°C) 90% Acceptability Upper Band']\n",
    "            y10=IMAC(city,'all',Range,freq='Monthly')['AC TOP(°C) 90% Acceptability Lower Band']\n",
    "            ax[0].plot(x1,y1,ls='--',c='k',label='Monthly Average Outdoor DBT (°C)',marker='o')\n",
    "            ax[0].plot(x1,y2,ls='-',c='goldenrod',label='Monthly Average Neutral Operative Temperature $T_{op}$ (°C) ',marker='o')\n",
    "            ax[0].fill_between(x1,y3,y4,color='wheat',alpha=0.7,label='$T_{op}$(°C) 90% Acceptability Range ')\n",
    "\n",
    "            ax[1].plot(x1,y1,ls='--',c='k',label='Monthly Average Outdoor DBT (°C)',marker='o')\n",
    "            ax[1].plot(x1,y5,ls='-',c='goldenrod',label='Monthly Average Neutral Operative Temperature $T_{op}$ (°C) ',marker='o')\n",
    "            ax[1].fill_between(x1,y6,y7,color='wheat',alpha=0.7,label='$T_{op}$(°C) 90% Acceptability Range ')\n",
    "\n",
    "            ax[2].plot(x1,y1,ls='--',c='k',label='Monthly Average Outdoor DBT (°C)',marker='o')\n",
    "            ax[2].plot(x1,y8,ls='-',c='goldenrod',label='Monthly Average Neutral Operative Temperature $T_{op}$ (°C) ',marker='o')\n",
    "            ax[2].fill_between(x1,y9,y10,color='wheat',alpha=0.7,label='$T_{op}$(°C) 90% Acceptability Range ')\n",
    "\n",
    "            ax[0].set_title('Naturally Ventillated')\n",
    "            ax[1].set_title('Mix Mode')\n",
    "            ax[2].set_title('Air Conditioned')\n",
    "\n",
    "            labels=['Jan','Feb','Mar','Apr','May','Jun','Jul','Aug','Sep','Oct','Nov','Dec']\n",
    "            plt.setp(ax,xticks=[1,2,3,4,5,6,7,8,9,10,11,12],xticklabels=labels,yticks=np.round((np.linspace(max(y1)+0.5,min(y1)-0.5,4)),0),xlim=(1,12))\n",
    "            fig.supxlabel('Month')\n",
    "            fig.supylabel('Temperature $^{\\circ}C$')\n",
    "            fig.tight_layout()\n",
    "            plt.legend(loc = 'lower center', bbox_to_anchor = (0,-0.31,1,1),bbox_transform = plt.gcf().transFigure )\n",
    "            plt.show()  \n",
    "    if Range=='80%':\n",
    "        if building!='all':\n",
    "            x1=np.linspace(1,12,12)\n",
    "            y1=IMAC(city,building,Range,freq='Monthly')['Monthly Average Outdoor DBT (°C)']\n",
    "            y2=IMAC(city,building,Range,freq='Monthly')['Monthly Average Neutral Operative Temperature TOP(°C)']\n",
    "            y3=IMAC(city,building,Range,freq='Monthly')['TOP(°C) 80% Acceptability Upper Band']\n",
    "            y4=IMAC(city,building,Range,freq='Monthly')['TOP(°C) 80% Acceptability Lower Band']\n",
    "            plt.plot(x1,y1,ls='--',c='k',label='Monthly Average Outdoor DBT (°C)',marker='o')\n",
    "            plt.plot(x1,y2,ls='-',c='goldenrod',label='Monthly Average Neutral Operative Temperature $T_{op}$ (°C) ',marker='o')\n",
    "            plt.xlabel('Month',loc='center')\n",
    "            plt.ylabel('Temperature $^{\\circ}C$',loc='center')\n",
    "            plt.fill_between(x1,y3,y4,color='firebrick',alpha=0.7,label='80% Acceptability Range $T_{op}$(°C)')\n",
    "            plt.fill_between(x1,IMAC(city,building,Range='90%',freq='Monthly')['TOP(°C) 90% Acceptability Upper Band'],IMAC(city,building,Range='90%',freq='Monthly')['TOP(°C) 90% Acceptability Lower Band'],color='wheat',alpha=0.7,label='90% Acceptability Range $T_{op}$(°C)')\n",
    "            plt.grid(alpha=0.3)\n",
    "            labels=['Jan','Feb','Mar','Apr','May','Jun','Jul','Aug','Sep','Oct','Nov','Dec']\n",
    "            plt.xticks(x1, labels, rotation='vertical')\n",
    "            plt.xlim(1,12)\n",
    "            plt.title('India Model for Adaptive Comfort for Commercial Buildings – '+str(building)+' in '+str(city),fontsize=20)\n",
    "            plt.legend(loc = 'lower center', bbox_to_anchor = (0,-0.31,1,1),bbox_transform = plt.gcf().transFigure )\n",
    "            plt.show()\n",
    "        else:\n",
    "            fig,ax=plt.subplots(3,sharex=True,sharey=True)\n",
    "            x1=np.linspace(1,12,12)\n",
    "            y1=IMAC(city,'all',Range,freq='Monthly')['Monthly Average Outdoor DBT (°C)']\n",
    "            y2=IMAC(city,'all',Range,freq='Monthly')['NV Neutral']\n",
    "            y3=IMAC(city,'all',Range,freq='Monthly')['NV TOP(°C) 80% Acceptability Upper Band']\n",
    "            y4=IMAC(city,'all',Range,freq='Monthly')['NV TOP(°C) 80% Acceptability Lower Band']\n",
    "            y5=IMAC(city,'all',Range,freq='Monthly')['MM Neutral']\n",
    "            y6=IMAC(city,'all',Range,freq='Monthly')['MM TOP(°C) 80% Acceptability Upper Band']\n",
    "            y7=IMAC(city,'all',Range,freq='Monthly')['NV TOP(°C) 80% Acceptability Lower Band']\n",
    "            y8=IMAC(city,'all',Range,freq='Monthly')['AC Neutral']\n",
    "            y9=IMAC(city,'all',Range,freq='Monthly')['AC TOP(°C) 80% Acceptability Upper Band']\n",
    "            y10=IMAC(city,'all',Range,freq='Monthly')['AC TOP(°C) 80% Acceptability Lower Band']\n",
    "            ax[0].plot(x1,y1,ls='--',c='k',label='Monthly Average Outdoor DBT (°C)',marker='o')\n",
    "            ax[0].plot(x1,y2,ls='-',c='goldenrod',label='Monthly Average Neutral Operative Temperature $T_{op}$ (°C) ',marker='o')\n",
    "            ax[0].fill_between(x1,y3,y4,color='firebrick',alpha=0.7,label='$T_{op}$(°C) 80% Acceptability Range ')\n",
    "\n",
    "            ax[1].plot(x1,y1,ls='--',c='k',label='Monthly Average Outdoor DBT (°C)',marker='o')\n",
    "            ax[1].plot(x1,y5,ls='-',c='goldenrod',label='Monthly Average Neutral Operative Temperature $T_{op}$ (°C) ',marker='o')\n",
    "            ax[1].fill_between(x1,y6,y7,color='firebrick',alpha=0.7,label='$T_{op}$(°C) 80% Acceptability Range ')\n",
    "\n",
    "            ax[2].plot(x1,y1,ls='--',c='k',label='Monthly Average Outdoor DBT (°C)',marker='o')\n",
    "            ax[2].plot(x1,y8,ls='-',c='goldenrod',label='Monthly Average Neutral Operative Temperature $T_{op}$ (°C) ',marker='o')\n",
    "            ax[2].fill_between(x1,y9,y10,color='firebrick',alpha=0.7,label='$T_{op}$(°C) 80% Acceptability Range ')\n",
    "\n",
    "            ax[0].set_title('Naturally Ventillated')\n",
    "            ax[1].set_title('Mix Mode')\n",
    "            ax[2].set_title('Air Conditioned')\n",
    "\n",
    "            labels=['Jan','Feb','Mar','Apr','May','Jun','Jul','Aug','Sep','Oct','Nov','Dec']\n",
    "            plt.setp(ax,xticks=[1,2,3,4,5,6,7,8,9,10,11,12],xticklabels=labels,yticks=np.round((np.linspace(max(y1)+0.5,min(y1)-0.5,4)),0),xlim=(1,12))\n",
    "            fig.supxlabel('Month')\n",
    "            fig.supylabel('Temperature $^{\\circ}C$')\n",
    "            fig.tight_layout()\n",
    "            plt.legend(loc = 'lower center', bbox_to_anchor = (0,-0.31,1,1),bbox_transform = plt.gcf().transFigure )\n",
    "            plt.show()"
   ]
  },
  {
   "cell_type": "code",
   "execution_count": 8,
   "id": "1a4c47ae",
   "metadata": {
    "extensions": {
     "jupyter_dashboards": {
      "version": 1,
      "views": {
       "default_view": {
        "hidden": true
       }
      }
     }
    }
   },
   "outputs": [],
   "source": [
    "def graph_IMAC_Week(city,building,Range):\n",
    "    if Range=='90%':\n",
    "        if building!='all':\n",
    "            x1=np.linspace(1,52,52)\n",
    "            y1=IMAC(city,building,Range,freq='Weekly')['Weekly Average Outdoor DBT (°C)']\n",
    "            y2=IMAC(city,building,Range,freq='Weekly')['Weekly Average Neutral Operative Temperature TOP (°C)']\n",
    "            y3=IMAC(city,building,Range,freq='Weekly')['TOP(°C) 90% Acceptability Upper Band']\n",
    "            y4=IMAC(city,building,Range,freq='Weekly')['TOP(°C) 90% Acceptability Lower Band']\n",
    "            plt.plot(x1,y1,ls='--',c='k',label='Weekly Average Outdoor DBT (°C)',marker='o')\n",
    "            plt.plot(x1,y2,ls='-',c='goldenrod',label='Weekly Average Neutral Operative Temperature $T_{op}$ (°C) ',marker='o')\n",
    "            plt.xlabel('Week',loc='center')\n",
    "            plt.ylabel('Temperature $^{\\circ}C$',loc='center')\n",
    "            plt.fill_between(x1,y3,y4,color='wheat',alpha=0.7,label='$T_{op}$(°C) 90% Acceptability Range ')\n",
    "            plt.grid(alpha=0.3)\n",
    "            plt.xticks(np.arange(1,52,2),rotation='horizontal')\n",
    "            plt.xlim(1,52)\n",
    "            plt.tick_params(axis='x', which='major', labelsize=15)\n",
    "            plt.title('India Model for Adaptive Comfort for Commercial Buildings – '+str(building)+' in '+str(city),fontsize=20)\n",
    "            plt.legend(loc = 'lower center', bbox_to_anchor = (0,-0.31,1,1),bbox_transform = plt.gcf().transFigure )\n",
    "            plt.show()\n",
    "        else:\n",
    "            fig,ax=plt.subplots(3,sharex=True,sharey=True)\n",
    "            x1=np.linspace(1,52,52)\n",
    "            y1=IMAC(city,'all',Range,freq='Weekly')['Weekly Average Outdoor DBT (°C)']\n",
    "            y2=IMAC(city,'all',Range,freq='Weekly')['NV Neutral']\n",
    "            y3=IMAC(city,'all',Range,freq='Weekly')['NV TOP(°C) 90% Acceptability Upper Band']\n",
    "            y4=IMAC(city,'all',Range,freq='Weekly')['NV TOP(°C) 90% Acceptability Lower Band']\n",
    "            y5=IMAC(city,'all',Range,freq='Weekly')['MM Neutral']\n",
    "            y6=IMAC(city,'all',Range,freq='Weekly')['MM TOP(°C) 90% Acceptability Upper Band']\n",
    "            y7=IMAC(city,'all',Range,freq='Weekly')['NV TOP(°C) 90% Acceptability Lower Band']\n",
    "            y8=IMAC(city,'all',Range,freq='Weekly')['AC Neutral']\n",
    "            y9=IMAC(city,'all',Range,freq='Weekly')['AC TOP(°C) 90% Acceptability Upper Band']\n",
    "            y10=IMAC(city,'all',Range,freq='Weekly')['AC TOP(°C) 90% Acceptability Lower Band']\n",
    "            ax[0].plot(x1,y1,ls='--',c='k',label='Weekly Average Outdoor DBT (°C)',marker='o')\n",
    "            ax[0].plot(x1,y2,ls='-',c='goldenrod',label='Monthly Average Neutral Operative Temperature $T_{op}$ (°C) ',marker='o')\n",
    "            ax[0].fill_between(x1,y3,y4,color='wheat',alpha=0.7,label='$T_{op}$(°C) 90% Acceptability Range ')\n",
    "\n",
    "            ax[1].plot(x1,y1,ls='--',c='k',label='Weekly Average Outdoor DBT (°C)',marker='o')\n",
    "            ax[1].plot(x1,y5,ls='-',c='goldenrod',label='Monthly Average Neutral Operative Temperature $T_{op}$ (°C) ',marker='o')\n",
    "            ax[1].fill_between(x1,y6,y7,color='wheat',alpha=0.7,label='$T_{op}$(°C) 90% Acceptability Range ')\n",
    "\n",
    "            ax[2].plot(x1,y1,ls='--',c='k',label='Weekly Average Outdoor DBT (°C)',marker='o')\n",
    "            ax[2].plot(x1,y8,ls='-',c='goldenrod',label='Weekly Average Neutral Operative Temperature $T_{op}$ (°C) ',marker='o')\n",
    "            ax[2].fill_between(x1,y9,y10,color='wheat',alpha=0.7,label='$T_{op}$(°C) 90% Acceptability Range ')\n",
    "\n",
    "            ax[0].set_title('Naturally Ventillated')\n",
    "            ax[1].set_title('Mix Mode')\n",
    "            ax[2].set_title('Air Conditioned')\n",
    "\n",
    "            #labels=['Jan','Feb','Mar','Apr','May','Jun','Jul','Aug','Sep','Oct','Nov','Dec']\n",
    "            plt.setp(ax,xticks=np.arange(1,52,2),yticks=np.round((np.linspace(max(y1)+0.5,min(y1)-0.5,4)),0),xlim=(1,52))\n",
    "            fig.supxlabel('Week')\n",
    "            fig.supylabel('Temperature $^{\\circ}C$')\n",
    "            fig.tight_layout()\n",
    "            plt.tick_params(axis='x', which='major', labelsize=15)\n",
    "            plt.legend(loc = 'lower center', bbox_to_anchor = (0,-0.31,1,1),bbox_transform = plt.gcf().transFigure )\n",
    "            plt.show()  \n",
    "    if Range=='80%':\n",
    "        if building!='all':\n",
    "            x1=np.linspace(1,52,52)\n",
    "            y1=IMAC(city,building,Range,freq='Weekly')['Weekly Average Outdoor DBT (°C)']\n",
    "            y2=IMAC(city,building,Range,freq='Weekly')['Weekly Average Neutral Operative Temperature TOP(°C)']\n",
    "            y3=IMAC(city,building,Range,freq='Weekly')['TOP(°C) 80% Acceptability Upper Band']\n",
    "            y4=IMAC(city,building,Range,freq='Weekly')['TOP(°C) 80% Acceptability Lower Band']\n",
    "            plt.plot(x1,y1,ls='--',c='k',label='Weekly Average Outdoor DBT (°C)',marker='o')\n",
    "            plt.plot(x1,y2,ls='-',c='goldenrod',label='Weekly Average Neutral Operative Temperature $T_{op}$ (°C) ',marker='o')\n",
    "            plt.xlabel('Week',loc='center')\n",
    "            plt.ylabel('Temperature $^{\\circ}C$',loc='center')\n",
    "            plt.fill_between(x1,y3,y4,color='firebrick',alpha=0.7,label='80% Acceptability Range $T_{op}$(°C)')\n",
    "            plt.fill_between(x1,IMAC(city,building,Range='90%',freq='Weekly')['TOP(°C) 90% Acceptability Upper Band'],IMAC(city,building,Range='90%',freq='Weekly')['TOP(°C) 90% Acceptability Lower Band'],color='wheat',alpha=0.7,label='90% Acceptability Range $T_{op}$(°C)')\n",
    "            plt.grid(alpha=0.3)\n",
    "            plt.xticks(np.arange(1,52,2),rotation='horizontal')\n",
    "            plt.xlim(1,52)\n",
    "            plt.tick_params(axis='x', which='major', labelsize=15)\n",
    "            plt.title('India Model for Adaptive Comfort for Commercial Buildings – '+str(building)+' in '+str(city),fontsize=20)\n",
    "            plt.legend(loc = 'lower center', bbox_to_anchor = (0,-0.31,1,1),bbox_transform = plt.gcf().transFigure )\n",
    "            plt.show()\n",
    "        else:\n",
    "            fig,ax=plt.subplots(3,sharex=True,sharey=True)\n",
    "            x1=np.linspace(1,52,52)\n",
    "            y1=IMAC(city,'all',Range,freq='Weekly')['Weekly Average Outdoor DBT (°C)']\n",
    "            y2=IMAC(city,'all',Range,freq='Weekly')['NV Neutral']\n",
    "            y3=IMAC(city,'all',Range,freq='Weekly')['NV TOP(°C) 80% Acceptability Upper Band']\n",
    "            y4=IMAC(city,'all',Range,freq='Weekly')['NV TOP(°C) 80% Acceptability Lower Band']\n",
    "            y5=IMAC(city,'all',Range,freq='Weekly')['MM Neutral']\n",
    "            y6=IMAC(city,'all',Range,freq='Weekly')['MM TOP(°C) 80% Acceptability Upper Band']\n",
    "            y7=IMAC(city,'all',Range,freq='Weekly')['NV TOP(°C) 80% Acceptability Lower Band']\n",
    "            y8=IMAC(city,'all',Range,freq='Weekly')['AC Neutral']\n",
    "            y9=IMAC(city,'all',Range,freq='Weekly')['AC TOP(°C) 80% Acceptability Upper Band']\n",
    "            y10=IMAC(city,'all',Range,freq='Weekly')['AC TOP(°C) 80% Acceptability Lower Band']\n",
    "            ax[0].plot(x1,y1,ls='--',c='k',label='Weekly Average Outdoor DBT (°C)',marker='o')\n",
    "            ax[0].plot(x1,y2,ls='-',c='goldenrod',label='Weekly Average Neutral Operative Temperature $T_{op}$ (°C) ',marker='o')\n",
    "            ax[0].fill_between(x1,y3,y4,color='firebrick',alpha=0.7,label='$T_{op}$(°C) 80% Acceptability Range ')\n",
    "\n",
    "            ax[1].plot(x1,y1,ls='--',c='k',label='Weekly Average Outdoor DBT (°C)',marker='o')\n",
    "            ax[1].plot(x1,y5,ls='-',c='goldenrod',label='Weekly Average Neutral Operative Temperature $T_{op}$ (°C) ',marker='o')\n",
    "            ax[1].fill_between(x1,y6,y7,color='firebrick',alpha=0.7,label='$T_{op}$(°C) 80% Acceptability Range ')\n",
    "\n",
    "            ax[2].plot(x1,y1,ls='--',c='k',label='Weekly Average Outdoor DBT (°C)',marker='o')\n",
    "            ax[2].plot(x1,y8,ls='-',c='goldenrod',label='Weekly Average Neutral Operative Temperature $T_{op}$ (°C) ',marker='o')\n",
    "            ax[2].fill_between(x1,y9,y10,color='firebrick',alpha=0.7,label='$T_{op}$(°C) 80% Acceptability Range ')\n",
    "\n",
    "            ax[0].set_title('Naturally Ventillated')\n",
    "            ax[1].set_title('Mix Mode')\n",
    "            ax[2].set_title('Air Conditioned')\n",
    "\n",
    "            plt.setp(ax,xticks=np.arange(1,52,2),yticks=np.round((np.linspace(max(y1)+0.5,min(y1)-0.5,4)),0),xlim=(1,52))\n",
    "            fig.supxlabel('Week')\n",
    "            fig.supylabel('Temperature $^{\\circ}C$')\n",
    "            fig.tight_layout()\n",
    "            plt.tick_params(axis='x', which='major', labelsize=15)\n",
    "            plt.legend(loc = 'lower center', bbox_to_anchor = (0,-0.31,1,1),bbox_transform = plt.gcf().transFigure )\n",
    "            plt.show()"
   ]
  },
  {
   "cell_type": "code",
   "execution_count": 9,
   "id": "f798a5b0",
   "metadata": {
    "extensions": {
     "jupyter_dashboards": {
      "version": 1,
      "views": {
       "default_view": {
        "hidden": true
       }
      }
     }
    }
   },
   "outputs": [],
   "source": [
    "def graph_IMAC(city,building,Range,freq):\n",
    "    if freq=='Monthly':\n",
    "        return graph_IMAC_Month(city,building,Range)\n",
    "    elif freq=='Weekly':\n",
    "        return graph_IMAC_Week(city,building,Range)"
   ]
  },
  {
   "cell_type": "code",
   "execution_count": 10,
   "id": "74801b67",
   "metadata": {
    "extensions": {
     "jupyter_dashboards": {
      "version": 1,
      "views": {
       "default_view": {
        "hidden": true
       }
      }
     }
    }
   },
   "outputs": [],
   "source": [
    "data=pd.read_csv('Raw_Cities.csv')\n",
    "del data['Hours']\n",
    "x=data.columns\n",
    "b_type=widgets.Dropdown(\n",
    "    options=[('Naturally Ventilated','NV'), ('Mixed Mode','MM'), ('Air Conditioned','AC'),('All','all')],\n",
    "    value='NV',\n",
    "    description='Building Operation Mode:',style={'description_width': 'initial'})\n",
    "\n",
    "city_list=widgets.Dropdown(\n",
    "    placeholder='Type your city',\n",
    "    options=x,\n",
    "    description='City:',\n",
    "    ensure_option=True,\n",
    "    disabled=False\n",
    ")\n",
    "\n",
    "Frequency_list=widgets.Dropdown(\n",
    "    #value='Ahmedabad',\n",
    "    placeholder='Type your city',\n",
    "    options=['Monthly','Weekly'],\n",
    "    description='Setpoint Frequency:',\n",
    "    style={'description_width': 'initial'},\n",
    "    ensure_option=True,\n",
    "    disabled=False\n",
    ")\n",
    "\n",
    "\n",
    "comfort_range=widgets.Dropdown(\n",
    "    options=[('80% feel comfortable','80%'), ('90% feel comfortable','90%')],\n",
    "    value='80%',\n",
    "    description='Range:',)\n",
    "\n",
    "get_data_button_1=widgets.Button(description='Get Results')\n",
    "get_data_button_2=widgets.Button(description='Get Results')\n",
    "download_button_1=widgets.Output()\n",
    "download_button_2=widgets.Output()"
   ]
  },
  {
   "cell_type": "code",
   "execution_count": 11,
   "id": "0b213da2",
   "metadata": {
    "extensions": {
     "jupyter_dashboards": {
      "version": 1,
      "views": {
       "default_view": {
        "hidden": true
       }
      }
     }
    }
   },
   "outputs": [],
   "source": [
    "#nbi:hide_in\n",
    "out = widgets.Output()\n",
    "out1=widgets.Output()\n",
    "#out1.layout.width = 'calc(95% + 14ex)'"
   ]
  },
  {
   "cell_type": "code",
   "execution_count": 12,
   "id": "ccdba72d",
   "metadata": {
    "extensions": {
     "jupyter_dashboards": {
      "version": 1,
      "views": {
       "default_view": {
        "hidden": true
       }
      }
     }
    }
   },
   "outputs": [],
   "source": [
    "def create_download_link_2(city,Range,freq):  \n",
    "    x=IMAC_R(city,Range,freq).to_csv(city+' '+Range+' '+freq)\n",
    "    filename=city+' '+Range+' '+freq\n",
    "    data = open(filename, \"rb\").read()\n",
    "    b64 = base64.b64encode(data)\n",
    "    payload = b64.decode()\n",
    "    html = '<a download=\"{filename}\" href=\"data:text/csv;base64,{payload}\" target=\"_blank\">{title}<button class=\"lm-Widget p-Widget jupyter-widgets jupyter-button widget-button\">Download Data</button></a>'\n",
    "    html = html.format(payload=payload,title='',filename=filename)\n",
    "    return HTML(html)\n",
    "\n",
    "def create_download_link_1(city,building,Range,freq):  \n",
    "    x=IMAC(city,building,Range).to_csv(city+' '+Range+' '+building+' '+freq)\n",
    "    filename=city+' '+Range+' '+building+' '+freq\n",
    "    data = open(filename, \"rb\").read()\n",
    "    b64 = base64.b64encode(data)\n",
    "    payload = b64.decode()\n",
    "    html = '<a download=\"{filename}\" href=\"data:text/csv;base64,{payload}\" target=\"_blank\">{title}<button class=\"lm-Widget p-Widget jupyter-widgets jupyter-button widget-button\">Download Data</button></a>'\n",
    "    html = html.format(payload=payload,title='',filename=filename)\n",
    "    return HTML(html)"
   ]
  },
  {
   "cell_type": "code",
   "execution_count": 13,
   "id": "16ee175c",
   "metadata": {
    "extensions": {
     "jupyter_dashboards": {
      "version": 1,
      "views": {
       "default_view": {
        "hidden": true
       }
      }
     }
    }
   },
   "outputs": [],
   "source": [
    "#nbi:hide_in\n",
    "def on_button_clicked_1(b):\n",
    "    with out:\n",
    "        clear_output()\n",
    "        display(IMAC(city_list.value,building=b_type.value,Range=comfort_range.value,freq=Frequency_list.value))\n",
    "    with out1: \n",
    "        clear_output()\n",
    "        (graph_IMAC(city_list.value,building=b_type.value,Range=comfort_range.value,freq=Frequency_list.value))\n",
    "        \n",
    "    with download_button_1:\n",
    "        clear_output()\n",
    "        display(create_download_link_1(city_list.value,building=b_type.value,Range=comfort_range.value,freq=Frequency_list.value))\n",
    "\n",
    "get_data_button_1.on_click(on_button_clicked_1)\n",
    "\n",
    "def on_button_clicked_2(b):\n",
    "    with out:\n",
    "        clear_output()\n",
    "        display(IMAC_R(city_list.value,Range=comfort_range.value,freq=Frequency_list.value))\n",
    "    with out1:\n",
    "        clear_output()\n",
    "        (graph_IMAC_R(city_list.value,Range=comfort_range.value,freq=Frequency_list.value))\n",
    "        \n",
    "    with download_button_2:\n",
    "        clear_output()\n",
    "        display(create_download_link_2(city_list.value,Range=comfort_range.value,freq=Frequency_list.value))\n",
    "        \n",
    "get_data_button_2.on_click(on_button_clicked_2)"
   ]
  },
  {
   "cell_type": "code",
   "execution_count": 14,
   "id": "02f8edbd",
   "metadata": {
    "extensions": {
     "jupyter_dashboards": {
      "version": 1,
      "views": {
       "default_view": {
        "hidden": true
       }
      }
     }
    }
   },
   "outputs": [],
   "source": [
    "#nbi:hide_in\n",
    "inbox1=widgets.HBox([get_data_button_1,download_button_1])\n",
    "inbox2=widgets.HBox([get_data_button_2,download_button_2])\n",
    "box1 = widgets.VBox([city_list,b_type,Frequency_list,comfort_range,inbox1,out])\n",
    "box2=widgets.VBox([city_list,comfort_range,Frequency_list,inbox2,out])"
   ]
  },
  {
   "cell_type": "code",
   "execution_count": 15,
   "id": "f0d3bcdd",
   "metadata": {
    "extensions": {
     "jupyter_dashboards": {
      "version": 1,
      "views": {
       "default_view": {
        "hidden": true
       }
      }
     }
    }
   },
   "outputs": [],
   "source": [
    "tab_nest = widgets.Tab()\n",
    "tab_nest.children = [box1, box2,]\n",
    "tab_nest.set_title(0, 'Commercial Building')\n",
    "tab_nest.set_title(1, 'Residential Building')"
   ]
  },
  {
   "cell_type": "markdown",
   "id": "f1ed9fd7",
   "metadata": {
    "extensions": {
     "jupyter_dashboards": {
      "version": 1,
      "views": {
       "default_view": {
        "col": 2,
        "height": 4,
        "row": 0,
        "width": 8
       }
      }
     }
    }
   },
   "source": [
    "<center><img src=\"FOOTER.png\" alt=\"logo\" style=\"width:1000px;height:95px;\"><center>"
   ]
  },
  {
   "cell_type": "code",
   "execution_count": 16,
   "id": "f4026135",
   "metadata": {
    "extensions": {
     "jupyter_dashboards": {
      "version": 1,
      "views": {
       "default_view": {
        "col": 0,
        "height": 16,
        "row": 4,
        "width": 11
       }
      }
     }
    }
   },
   "outputs": [
    {
     "data": {
      "application/vnd.jupyter.widget-view+json": {
       "model_id": "0146276f75484e3180f461eec4728811",
       "version_major": 2,
       "version_minor": 0
      },
      "text/plain": [
       "AppLayout(children=(Tab(children=(VBox(children=(Dropdown(description='City:', options=('Agartala', 'Agatti Is…"
      ]
     },
     "metadata": {},
     "output_type": "display_data"
    }
   ],
   "source": [
    "widgets.AppLayout(header=None,left_sidebar=(tab_nest),center=out1,right_sidebar=None,footer=None)"
   ]
  },
  {
   "cell_type": "markdown",
   "id": "5e55d163",
   "metadata": {
    "extensions": {
     "jupyter_dashboards": {
      "version": 1,
      "views": {
       "default_view": {
        "col": 0,
        "height": 9,
        "row": 20,
        "width": 11
       }
      }
     }
    }
   },
   "source": [
    " <left><em>Note: The tool will take upto 60 seconds to load. Please wait.</em><left>\n",
    "<style>\n",
    "body, h1, h2, h3, h4, h5, h6  {\n",
    "  font-family: \"Times New Roman\", Times,Times;\n",
    "}\n",
    "</style>\n",
    "<center><h3>About the Tool:</h3> <center>\n",
    "    \n",
    "<p align=\"justify\">\n",
    "    \n",
    "Buildings consume 40% of the total energy generated globally. A significant proportion of this consumption is utilized in order to maintain comfortable indoor temperatures via cooling or heating. A building can be classified as being in one of the three ‘Building Operation Modes’ depending on the presence of Air Conditioning. The ‘Natural Ventilation’ mode implies the absence of Air-Conditioning as well as assisted mechanical ventilation; conversely the ‘Air Conditioned’  mode implies that comfort is achieved wholly by the use of artificial mechanisms; the ‘Mixed Mode’ of operations is a combination of the two aforementioned modes, suggesting that Air Conditioning is used over specific spaces or during certain time-periods.\n",
    "    \n",
    "</p> \n",
    "    \n",
    "<p align=\"justify\">\n",
    "    \n",
    "Studies have shown that indoor comfort temperatures correlate strongly to outdoor weather conditions. The aim of this tool is to calculate indoor comfort temperatures or ‘Average Neutral Operative Temperatures’ for 160 Indian cities and towns and provide temperature ranges where 90% or 80% of occupants would feel comfortable in a building. This tool calculates these temperatures for commercial as well as residential buildings using a region’s Typical meteorological year (TMY) data. While the commercial building type includes three modes of operations (Naturally Ventilated, Air Conditioned, and Mixed Mode), the residential building type assumes a ‘Mix Mode’ of indoor operations. \n",
    "    \n",
    "</p> \n",
    "\n",
    "<p align=\"justify\">\n",
    "    \n",
    "The tool provides a table with the calculated temperatures and ranges and provides the visualisation for the same. A user may download this calculated data in the form of a .csv file by using the ‘Download Data’ feature. \n",
    "</p> "
   ]
  },
  {
   "cell_type": "markdown",
   "id": "c6cf4939",
   "metadata": {},
   "source": [
    " <style>\n",
    "body, h1, h2, h3, h4, h5, h6  {\n",
    "  font-family: \"Times New Roman\", Times, serif;\n",
    "}\n",
    "</style>\n",
    " \n",
    " <center><h3>Disclaimer:</h3> <center>\n",
    "    \n",
    " <p align=\"justify\">\n",
    "     \n",
    "Please note that these calculations are best suited for places whose 30-day outdoor running mean temperatures range between 13°C to 39°C for commercial buildings and 7°C to 39°C for residential buildings. We recommend using the  $T_{\\text{neutral}}$ (°C ) values for conditions having a 30-day running mean outdoor temperature higher or lower than the indicated values. We also recommend that the IMAC and IMAC-R values be used for conditions wherein the indoor relative humidity conditions(RH in %) range between 25% and 75%\n",
    "    </p>"
   ]
  },
  {
   "cell_type": "markdown",
   "id": "629eadd3",
   "metadata": {
    "extensions": {
     "jupyter_dashboards": {
      "version": 1,
      "views": {
       "default_view": {
        "col": 0,
        "height": 5,
        "row": 33,
        "width": 11
       }
      }
     }
    }
   },
   "source": [
    " <style>\n",
    "body, h1, h2, h3, h4, h5, h6  {\n",
    "  font-family: \"Times New Roman\", Times, serif;\n",
    "}\n",
    "</style>\n",
    " \n",
    " <center><h3>References:</h3> <center>\n",
    "    <ol> \n",
    "  <p><cite align=\"justify\"> 1.  Manu, S., Shukla, Y., Rawal, R., Thomas, L., & de Dear, R. (2016). Field studies of thermal comfort across multiple climate zones for the subcontinent: India Model for Adaptive Comfort (IMAC). Building And Environment, 98, 55-70.<a href=\"https://doi.org/10.1016/j.buildenv.2015.12.019\"> Access Paper </a></cite>\n",
    "</p> \n",
    "     \n",
    "  <p><cite align=\"justify\">2. Rawal, R., Shukla, Y., Vardhan, V., Asrani, S., Schweiker, M., & de Dear, R. et al. (2022). Adaptive thermal comfort model based on field studies in five climate zones across India. Building And Environment, 219, 109187. <a href=\"https://doi.org/10.1016/j.buildenv.2022.109187\">Access Paper</a></cite></p>"
   ]
  },
  {
   "cell_type": "markdown",
   "id": "a78e4d56",
   "metadata": {
    "extensions": {
     "jupyter_dashboards": {
      "version": 1,
      "views": {
       "default_view": {
        "col": 0,
        "height": 4,
        "row": 29,
        "width": 11
       }
      }
     }
    }
   },
   "source": [
    "<style>\n",
    "body, h1, h2, h3, h4, h5, h6  {\n",
    "  font-family: \"Times New Roman\", Times, serif;\n",
    "}\n",
    "</style>\n",
    "<center><h3>Link to Raw-Data:</h3> <center>\n",
    "<p align=\"justify\">\n",
    "The Typical Meteorological Year (TMY) data was extracted from <a href=\"https://climate.onebuilding.org/WMO_Region_2_Asia/IND_India/index.html\">HERE</a>. Choose the file name with the following naming convention: <strong>\"IND_[State Name]_[Place Name].[Number]_TMYx.2007-2021.zip\"</strong>. Unzipping this file will lead to an .epw file whose data can be extracted in any .csv reader. The drybulb temperature data collected on an hourly basis was used for this project. If the 2007-2021 file is unavailable for a given region then choose the file that has the most recent year tag.</p>"
   ]
  },
  {
   "cell_type": "markdown",
   "id": "2b67d03c",
   "metadata": {
    "extensions": {
     "jupyter_dashboards": {
      "version": 1,
      "views": {
       "default_view": {
        "col": 0,
        "height": 2,
        "row": 38,
        "width": 11
       }
      }
     }
    }
   },
   "source": [
    "<left><span style=\"font-size:10px\">2022&nbsp;Tool developed by Spandan Pandya under the guidance of Prof. Rajan Rawal and Dr. Yash Shukla.</span><left>"
   ]
  }
 ],
 "metadata": {
  "extensions": {
   "jupyter_dashboards": {
    "activeView": "default_view",
    "version": 1,
    "views": {
     "default_view": {
      "cellMargin": 10,
      "defaultCellHeight": 40,
      "maxColumns": 12,
      "name": "active_view",
      "type": "grid"
     }
    }
   }
  },
  "kernelspec": {
   "display_name": "Python 3 (ipykernel)",
   "language": "python",
   "name": "python3"
  },
  "language_info": {
   "codemirror_mode": {
    "name": "ipython",
    "version": 3
   },
   "file_extension": ".py",
   "mimetype": "text/x-python",
   "name": "python",
   "nbconvert_exporter": "python",
   "pygments_lexer": "ipython3",
   "version": "3.9.12"
  },
  "widgets": {
   "application/vnd.jupyter.widget-state+json": {
    "state": {
     "021ff334a1584819b46330fb474c6329": {
      "model_module": "@jupyter-widgets/base",
      "model_module_version": "1.2.0",
      "model_name": "LayoutModel",
      "state": {}
     },
     "03b90dafa29e484db679104d1cf6f1a6": {
      "model_module": "@jupyter-widgets/controls",
      "model_module_version": "1.5.0",
      "model_name": "GridBoxModel",
      "state": {
       "children": [
        "IPY_MODEL_b718bd98bcff46acba2e31e71ba8aee3",
        "IPY_MODEL_72845a8b196140bbb270a908fa0c8579"
       ],
       "layout": "IPY_MODEL_e0e1d9288b974ae3bcaf5fbe2eac6f54"
      }
     },
     "048ed1d7d5314e7395486df8a192952c": {
      "model_module": "@jupyter-widgets/base",
      "model_module_version": "1.2.0",
      "model_name": "LayoutModel",
      "state": {}
     },
     "055dede019ea46059776692d7c8e5f76": {
      "model_module": "@jupyter-widgets/base",
      "model_module_version": "1.2.0",
      "model_name": "LayoutModel",
      "state": {}
     },
     "055f4708f51e4a9c8c8cd61c04a4796d": {
      "model_module": "@jupyter-widgets/controls",
      "model_module_version": "1.5.0",
      "model_name": "ButtonStyleModel",
      "state": {}
     },
     "07d6a08e97b84b4499320bd6d3a64374": {
      "model_module": "@jupyter-widgets/controls",
      "model_module_version": "1.5.0",
      "model_name": "DescriptionStyleModel",
      "state": {
       "description_width": "initial"
      }
     },
     "0af62120e63f4b5688004056b6762cbf": {
      "model_module": "@jupyter-widgets/output",
      "model_module_version": "1.0.0",
      "model_name": "OutputModel",
      "state": {
       "layout": "IPY_MODEL_4ad76cc16a824eee91de6360a9b0888e",
       "outputs": [
        {
         "data": {
          "text/html": "<div>\n<style scoped>\n    .dataframe tbody tr th:only-of-type {\n        vertical-align: middle;\n    }\n\n    .dataframe tbody tr th {\n        vertical-align: top;\n    }\n\n    .dataframe thead th {\n        text-align: right;\n    }\n</style>\n<table border=\"1\" class=\"dataframe\">\n  <thead>\n    <tr style=\"text-align: right;\">\n      <th></th>\n      <th>Monthly Average Outdoor DBT (°C)</th>\n      <th>Monthly Average Neutral Operative Temperature TOP(°C)</th>\n      <th>TOP(°C) 80% Acceptability Upper Band</th>\n      <th>TOP(°C) 80% Acceptability Lower Band</th>\n    </tr>\n    <tr>\n      <th>Month</th>\n      <th></th>\n      <th></th>\n      <th></th>\n      <th></th>\n    </tr>\n  </thead>\n  <tbody>\n    <tr>\n      <th>January</th>\n      <td>17.4</td>\n      <td>22.4</td>\n      <td>26.5</td>\n      <td>18.3</td>\n    </tr>\n    <tr>\n      <th>February</th>\n      <td>20.8</td>\n      <td>22.8</td>\n      <td>26.8</td>\n      <td>18.6</td>\n    </tr>\n    <tr>\n      <th>March</th>\n      <td>25.9</td>\n      <td>25.6</td>\n      <td>29.7</td>\n      <td>21.5</td>\n    </tr>\n    <tr>\n      <th>April</th>\n      <td>27.6</td>\n      <td>27.0</td>\n      <td>31.1</td>\n      <td>22.9</td>\n    </tr>\n    <tr>\n      <th>May</th>\n      <td>28.3</td>\n      <td>28.2</td>\n      <td>32.3</td>\n      <td>24.1</td>\n    </tr>\n    <tr>\n      <th>June</th>\n      <td>28.4</td>\n      <td>28.2</td>\n      <td>32.3</td>\n      <td>24.1</td>\n    </tr>\n    <tr>\n      <th>July</th>\n      <td>28.8</td>\n      <td>28.3</td>\n      <td>32.4</td>\n      <td>24.2</td>\n    </tr>\n    <tr>\n      <th>August</th>\n      <td>28.6</td>\n      <td>28.3</td>\n      <td>32.4</td>\n      <td>24.2</td>\n    </tr>\n    <tr>\n      <th>September</th>\n      <td>28.4</td>\n      <td>28.2</td>\n      <td>32.3</td>\n      <td>24.1</td>\n    </tr>\n    <tr>\n      <th>October</th>\n      <td>27.3</td>\n      <td>28.0</td>\n      <td>32.1</td>\n      <td>23.9</td>\n    </tr>\n    <tr>\n      <th>November</th>\n      <td>23.3</td>\n      <td>26.4</td>\n      <td>30.5</td>\n      <td>22.3</td>\n    </tr>\n    <tr>\n      <th>December</th>\n      <td>18.2</td>\n      <td>24.0</td>\n      <td>28.1</td>\n      <td>19.9</td>\n    </tr>\n  </tbody>\n</table>\n</div>",
          "text/plain": "           Monthly Average Outdoor DBT (°C)  \\\nMonth                                         \nJanuary                                17.4   \nFebruary                               20.8   \nMarch                                  25.9   \nApril                                  27.6   \nMay                                    28.3   \nJune                                   28.4   \nJuly                                   28.8   \nAugust                                 28.6   \nSeptember                              28.4   \nOctober                                27.3   \nNovember                               23.3   \nDecember                               18.2   \n\n           Monthly Average Neutral Operative Temperature TOP(°C)  \\\nMonth                                                              \nJanuary                                                 22.4       \nFebruary                                                22.8       \nMarch                                                   25.6       \nApril                                                   27.0       \nMay                                                     28.2       \nJune                                                    28.2       \nJuly                                                    28.3       \nAugust                                                  28.3       \nSeptember                                               28.2       \nOctober                                                 28.0       \nNovember                                                26.4       \nDecember                                                24.0       \n\n           TOP(°C) 80% Acceptability Upper Band  \\\nMonth                                             \nJanuary                                    26.5   \nFebruary                                   26.8   \nMarch                                      29.7   \nApril                                      31.1   \nMay                                        32.3   \nJune                                       32.3   \nJuly                                       32.4   \nAugust                                     32.4   \nSeptember                                  32.3   \nOctober                                    32.1   \nNovember                                   30.5   \nDecember                                   28.1   \n\n           TOP(°C) 80% Acceptability Lower Band  \nMonth                                            \nJanuary                                    18.3  \nFebruary                                   18.6  \nMarch                                      21.5  \nApril                                      22.9  \nMay                                        24.1  \nJune                                       24.1  \nJuly                                       24.2  \nAugust                                     24.2  \nSeptember                                  24.1  \nOctober                                    23.9  \nNovember                                   22.3  \nDecember                                   19.9  "
         },
         "metadata": {},
         "output_type": "display_data"
        }
       ]
      }
     },
     "0b7fb4aedd054663a9674fb80bde00fa": {
      "model_module": "@jupyter-widgets/controls",
      "model_module_version": "1.5.0",
      "model_name": "DropdownModel",
      "state": {
       "_options_labels": [
        "Naturally Ventilated",
        "Mixed Mode",
        "Air Conditioned",
        "All"
       ],
       "description": "Building Operation Mode:",
       "index": 0,
       "layout": "IPY_MODEL_19d34981a5b946808f3c85e20b3d53ff",
       "style": "IPY_MODEL_07d6a08e97b84b4499320bd6d3a64374"
      }
     },
     "0b8d974f95234ee2ae69b06826a5970b": {
      "model_module": "@jupyter-widgets/base",
      "model_module_version": "1.2.0",
      "model_name": "LayoutModel",
      "state": {}
     },
     "0d1c1e046a1145fea0ec29e1f4bdb99e": {
      "model_module": "@jupyter-widgets/controls",
      "model_module_version": "1.5.0",
      "model_name": "ButtonStyleModel",
      "state": {}
     },
     "0f157881a8484ba38d0ac5e781f6eb05": {
      "model_module": "@jupyter-widgets/base",
      "model_module_version": "1.2.0",
      "model_name": "LayoutModel",
      "state": {}
     },
     "10a8b565868f4f91a5f3aee512f61839": {
      "model_module": "@jupyter-widgets/controls",
      "model_module_version": "1.5.0",
      "model_name": "GridBoxModel",
      "state": {
       "children": [
        "IPY_MODEL_8fd65e888fb444fe8cd7a2ea88cbc854",
        "IPY_MODEL_3fe3ae6e47194533b270b02f4601d977"
       ],
       "layout": "IPY_MODEL_c721a8246e6c4eb9b4b8df819b94d4d3"
      }
     },
     "111bed4cf7ad4eaaa85fdf96e6762fea": {
      "model_module": "@jupyter-widgets/base",
      "model_module_version": "1.2.0",
      "model_name": "LayoutModel",
      "state": {
       "grid_template_areas": "\"left-sidebar left-sidebar left-sidebar\"\n\"left-sidebar left-sidebar left-sidebar\"\n\"left-sidebar left-sidebar left-sidebar\"",
       "grid_template_columns": "1fr 2fr 1fr",
       "grid_template_rows": "1fr 3fr 1fr",
       "width": "auto"
      }
     },
     "133498de24474702ac983c72b4664de5": {
      "model_module": "@jupyter-widgets/controls",
      "model_module_version": "1.5.0",
      "model_name": "HBoxModel",
      "state": {
       "children": [
        "IPY_MODEL_835785188b3b41568324224645cfb880",
        "IPY_MODEL_19599272b43741e6861e965d19dfddbc"
       ],
       "layout": "IPY_MODEL_a67bb1c50a61420d96d8168c49ecf983"
      }
     },
     "138a2909a86c42c3aa4b82e8d6ebe883": {
      "model_module": "@jupyter-widgets/controls",
      "model_module_version": "1.5.0",
      "model_name": "GridBoxModel",
      "state": {
       "children": [
        "IPY_MODEL_b63e5be0853a496883ef9e420ee03763"
       ],
       "layout": "IPY_MODEL_111bed4cf7ad4eaaa85fdf96e6762fea"
      }
     },
     "144a736353dc489798ec170161c5e6b6": {
      "model_module": "@jupyter-widgets/controls",
      "model_module_version": "1.5.0",
      "model_name": "GridBoxModel",
      "state": {
       "children": [
        "IPY_MODEL_8fd65e888fb444fe8cd7a2ea88cbc854",
        "IPY_MODEL_3fe3ae6e47194533b270b02f4601d977"
       ],
       "layout": "IPY_MODEL_eb9e6c8f42254308902d7c5d6452fcd1"
      }
     },
     "14ca7728b0ba4d0cbf6650189b0202a3": {
      "model_module": "@jupyter-widgets/controls",
      "model_module_version": "1.5.0",
      "model_name": "HBoxModel",
      "state": {
       "layout": "IPY_MODEL_055dede019ea46059776692d7c8e5f76"
      }
     },
     "1674a17e01844511841cddef33ed40b0": {
      "model_module": "@jupyter-widgets/base",
      "model_module_version": "1.2.0",
      "model_name": "LayoutModel",
      "state": {}
     },
     "16781f0d86af4877ac08a02345f6496c": {
      "model_module": "@jupyter-widgets/base",
      "model_module_version": "1.2.0",
      "model_name": "LayoutModel",
      "state": {}
     },
     "191a0481d05d43a1a504e18dd9b0bbdf": {
      "model_module": "@jupyter-widgets/controls",
      "model_module_version": "1.5.0",
      "model_name": "DescriptionStyleModel",
      "state": {
       "description_width": ""
      }
     },
     "19599272b43741e6861e965d19dfddbc": {
      "model_module": "@jupyter-widgets/output",
      "model_module_version": "1.0.0",
      "model_name": "OutputModel",
      "state": {
       "layout": "IPY_MODEL_67e53ad6a1a348b09dd58e11f35ff7c4",
       "outputs": [
        {
         "data": {
          "text/html": "<a download=\"Agartala 80% NV Monthly\" href=\"data:text/csv;base64,TW9udGgsTW9udGhseSBBdmVyYWdlIE91dGRvb3IgREJUICjCsEMpLE1vbnRobHkgQXZlcmFnZSBOZXV0cmFsIE9wZXJhdGl2ZSBUZW1wZXJhdHVyZSBUT1AowrBDKSxUT1AowrBDKSA4MCUgQWNjZXB0YWJpbGl0eSBVcHBlciBCYW5kLFRPUCjCsEMpIDgwJSBBY2NlcHRhYmlsaXR5IExvd2VyIEJhbmQKSmFudWFyeSwxNy40LDIyLjQsMjYuNSwxOC4zCkZlYnJ1YXJ5LDIwLjgsMjIuOCwyNi44LDE4LjYKTWFyY2gsMjUuOSwyNS42LDI5LjcsMjEuNQpBcHJpbCwyNy42LDI3LjAsMzEuMSwyMi45Ck1heSwyOC4zLDI4LjIsMzIuMywyNC4xCkp1bmUsMjguNCwyOC4yLDMyLjMsMjQuMQpKdWx5LDI4LjgsMjguMywzMi40LDI0LjIKQXVndXN0LDI4LjYsMjguMywzMi40LDI0LjIKU2VwdGVtYmVyLDI4LjQsMjguMiwzMi4zLDI0LjEKT2N0b2JlciwyNy4zLDI4LjAsMzIuMSwyMy45Ck5vdmVtYmVyLDIzLjMsMjYuNCwzMC41LDIyLjMKRGVjZW1iZXIsMTguMiwyNC4wLDI4LjEsMTkuOQo=\" target=\"_blank\"><button class=\"lm-Widget p-Widget jupyter-widgets jupyter-button widget-button\">Download Data</button></a>",
          "text/plain": "<IPython.core.display.HTML object>"
         },
         "metadata": {},
         "output_type": "display_data"
        }
       ]
      }
     },
     "19d34981a5b946808f3c85e20b3d53ff": {
      "model_module": "@jupyter-widgets/base",
      "model_module_version": "1.2.0",
      "model_name": "LayoutModel",
      "state": {}
     },
     "264673bcdabb4bbaae9a12faadd78105": {
      "model_module": "@jupyter-widgets/controls",
      "model_module_version": "1.5.0",
      "model_name": "HBoxModel",
      "state": {
       "layout": "IPY_MODEL_ffddfbe1d22d4bd7a70275db9dc5453a"
      }
     },
     "26d42dc1c2ef4b7db3739566b94ebedb": {
      "model_module": "@jupyter-widgets/base",
      "model_module_version": "1.2.0",
      "model_name": "LayoutModel",
      "state": {
       "grid_template_areas": "\"left-sidebar center center\"",
       "grid_template_columns": "1fr 2fr 1fr",
       "grid_template_rows": "3fr",
       "width": "auto"
      }
     },
     "28791fd4b7994b06b37c2f373b465112": {
      "model_module": "@jupyter-widgets/controls",
      "model_module_version": "1.5.0",
      "model_name": "HBoxModel",
      "state": {
       "layout": "IPY_MODEL_8f59fc77eafd4eb3b5b969ad8a4b54e8"
      }
     },
     "2ada46eeee63455fa1772e520dd2c5a6": {
      "model_module": "@jupyter-widgets/controls",
      "model_module_version": "1.5.0",
      "model_name": "GridBoxModel",
      "state": {
       "children": [
        "IPY_MODEL_b63e5be0853a496883ef9e420ee03763"
       ],
       "layout": "IPY_MODEL_ee97242495c1476d9752ecfc8062f091"
      }
     },
     "2b6c02b5c4b140a99bf07de02ca9de05": {
      "model_module": "@jupyter-widgets/base",
      "model_module_version": "1.2.0",
      "model_name": "LayoutModel",
      "state": {
       "grid_area": "left-sidebar"
      }
     },
     "2c1f22226b0c46b19ca2aa25acc8748d": {
      "model_module": "@jupyter-widgets/base",
      "model_module_version": "1.2.0",
      "model_name": "LayoutModel",
      "state": {}
     },
     "2db4a85b31ef47d2b7f3f0f5c4d3a492": {
      "model_module": "@jupyter-widgets/base",
      "model_module_version": "1.2.0",
      "model_name": "LayoutModel",
      "state": {}
     },
     "2f75880c11bf4f60bab3c4b9b2414d40": {
      "model_module": "@jupyter-widgets/base",
      "model_module_version": "1.2.0",
      "model_name": "LayoutModel",
      "state": {}
     },
     "3218669cf9b94e7b982dd350e04143c1": {
      "model_module": "@jupyter-widgets/output",
      "model_module_version": "1.0.0",
      "model_name": "OutputModel",
      "state": {
       "layout": "IPY_MODEL_83d09095adf24ea9a454a7c67b122eb2"
      }
     },
     "35fbd2f3e772402b9b785db5ed4f3eec": {
      "model_module": "@jupyter-widgets/controls",
      "model_module_version": "1.5.0",
      "model_name": "DropdownModel",
      "state": {
       "_options_labels": [
        "80% feel comfortable",
        "90% feel comfortable"
       ],
       "description": "Range:",
       "index": 0,
       "layout": "IPY_MODEL_ce569e15285949cfadcaf0515d0f1fc3",
       "style": "IPY_MODEL_191a0481d05d43a1a504e18dd9b0bbdf"
      }
     },
     "36472d37f49b44838e1977b29f52606c": {
      "model_module": "@jupyter-widgets/controls",
      "model_module_version": "1.5.0",
      "model_name": "DropdownModel",
      "state": {
       "_options_labels": [
        "80% feel comfortable",
        "90% feel comfortable"
       ],
       "description": "Range:",
       "index": 0,
       "layout": "IPY_MODEL_9cdb14d7f7534e37821d095d77f3557f",
       "style": "IPY_MODEL_a92a4a2e2b74434c90031544fd0660b1"
      }
     },
     "37354c1b0e35494894f2dc283f225500": {
      "model_module": "@jupyter-widgets/base",
      "model_module_version": "1.2.0",
      "model_name": "LayoutModel",
      "state": {}
     },
     "3bbb48fb44d147178d746e8c74c1499b": {
      "model_module": "@jupyter-widgets/base",
      "model_module_version": "1.2.0",
      "model_name": "LayoutModel",
      "state": {}
     },
     "3c511cc7c80a4f5f8b394e186dd39f05": {
      "model_module": "@jupyter-widgets/controls",
      "model_module_version": "1.5.0",
      "model_name": "HBoxModel",
      "state": {
       "children": [
        "IPY_MODEL_6e0b59883bd24487a3167a97543bb878",
        "IPY_MODEL_c052e4776b924f589456bb6c7b2c70bf"
       ],
       "layout": "IPY_MODEL_5621a36023fa453f8d7e5b9490cc74ba"
      }
     },
     "3de010005de144b7bcf41af97e9abf28": {
      "model_module": "@jupyter-widgets/controls",
      "model_module_version": "1.5.0",
      "model_name": "DropdownModel",
      "state": {
       "_options_labels": [
        "Monthly",
        "Weekly"
       ],
       "description": "Setpoint Frequency:",
       "index": 0,
       "layout": "IPY_MODEL_770a84db61a448018cc835ae7895ecb3",
       "style": "IPY_MODEL_a5918c04f143473fb3922539a07da399"
      }
     },
     "3e02266dc116465da7ee7730417aa225": {
      "model_module": "@jupyter-widgets/controls",
      "model_module_version": "1.5.0",
      "model_name": "VBoxModel",
      "state": {
       "children": [
        "IPY_MODEL_ba37a067a09f4ec79d5a23c925e72ae5",
        "IPY_MODEL_a4e30534374749ac909fbe117e0e8ed7",
        "IPY_MODEL_94194e7fe31c40d7b68b4a8ee5f6b8f0",
        "IPY_MODEL_36472d37f49b44838e1977b29f52606c",
        "IPY_MODEL_133498de24474702ac983c72b4664de5",
        "IPY_MODEL_0af62120e63f4b5688004056b6762cbf"
       ],
       "layout": "IPY_MODEL_37354c1b0e35494894f2dc283f225500"
      }
     },
     "3edccdab3ec943658e3bcf3320f72b3e": {
      "model_module": "@jupyter-widgets/controls",
      "model_module_version": "1.5.0",
      "model_name": "GridBoxModel",
      "state": {
       "children": [
        "IPY_MODEL_8fd65e888fb444fe8cd7a2ea88cbc854",
        "IPY_MODEL_3fe3ae6e47194533b270b02f4601d977"
       ],
       "layout": "IPY_MODEL_40d8b0f516854a0f9ddba5cfb503dfe9"
      }
     },
     "3f72e00caec04939b9dd63dd79053bfe": {
      "model_module": "@jupyter-widgets/controls",
      "model_module_version": "1.5.0",
      "model_name": "HBoxModel",
      "state": {
       "layout": "IPY_MODEL_b81187a207dd4556b1cfc541b3cd0c5a"
      }
     },
     "3fe3ae6e47194533b270b02f4601d977": {
      "model_module": "@jupyter-widgets/output",
      "model_module_version": "1.0.0",
      "model_name": "OutputModel",
      "state": {
       "layout": "IPY_MODEL_e80920e77d3b46d6aa413fa518e4b5e5",
       "outputs": [
        {
         "data": {
          "image/png": "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\n",
          "text/plain": "<Figure size 936x540 with 1 Axes>"
         },
         "metadata": {
          "needs_background": "light"
         },
         "output_type": "display_data"
        }
       ]
      }
     },
     "40a62973a8684de6b66d2aa97ccaa91d": {
      "model_module": "@jupyter-widgets/controls",
      "model_module_version": "1.5.0",
      "model_name": "GridBoxModel",
      "state": {
       "children": [
        "IPY_MODEL_8fd65e888fb444fe8cd7a2ea88cbc854",
        "IPY_MODEL_3fe3ae6e47194533b270b02f4601d977"
       ],
       "layout": "IPY_MODEL_4e15d3ce12174216a0f65c170f8d4e28"
      }
     },
     "40d8b0f516854a0f9ddba5cfb503dfe9": {
      "model_module": "@jupyter-widgets/base",
      "model_module_version": "1.2.0",
      "model_name": "LayoutModel",
      "state": {
       "grid_template_areas": "\"left-sidebar center center\"",
       "grid_template_columns": "1fr 2fr 1fr",
       "grid_template_rows": "3fr",
       "width": "auto"
      }
     },
     "41718ee1199c435fa0377acde88a758c": {
      "model_module": "@jupyter-widgets/controls",
      "model_module_version": "1.5.0",
      "model_name": "HBoxModel",
      "state": {
       "layout": "IPY_MODEL_0f157881a8484ba38d0ac5e781f6eb05"
      }
     },
     "45e5bdb29da54a8d8e35b9e13dee1789": {
      "model_module": "@jupyter-widgets/controls",
      "model_module_version": "1.5.0",
      "model_name": "HBoxModel",
      "state": {
       "layout": "IPY_MODEL_d961bda259824673a50d9caf40dd36f8"
      }
     },
     "468773d803404f999e21f20fb421062f": {
      "model_module": "@jupyter-widgets/base",
      "model_module_version": "1.2.0",
      "model_name": "LayoutModel",
      "state": {
       "grid_template_areas": "\"left-sidebar center center\"",
       "grid_template_columns": "1fr 2fr 1fr",
       "grid_template_rows": "3fr",
       "width": "50%"
      }
     },
     "495639e519934594a4873066c4edf346": {
      "model_module": "@jupyter-widgets/base",
      "model_module_version": "1.2.0",
      "model_name": "LayoutModel",
      "state": {}
     },
     "4aa2e359074d477988709a900f116914": {
      "model_module": "@jupyter-widgets/controls",
      "model_module_version": "1.5.0",
      "model_name": "HBoxModel",
      "state": {
       "layout": "IPY_MODEL_7af6aa4e84e24b9781bef7e443f78e10"
      }
     },
     "4ad76cc16a824eee91de6360a9b0888e": {
      "model_module": "@jupyter-widgets/base",
      "model_module_version": "1.2.0",
      "model_name": "LayoutModel",
      "state": {}
     },
     "4e15d3ce12174216a0f65c170f8d4e28": {
      "model_module": "@jupyter-widgets/base",
      "model_module_version": "1.2.0",
      "model_name": "LayoutModel",
      "state": {
       "grid_template_areas": "\"left-sidebar center center\"",
       "grid_template_columns": "1fr 2fr 1fr",
       "grid_template_rows": "3fr",
       "width": "5%"
      }
     },
     "5388a5e10c5748c5978ee402b55bdd6a": {
      "model_module": "@jupyter-widgets/controls",
      "model_module_version": "1.5.0",
      "model_name": "HBoxModel",
      "state": {
       "layout": "IPY_MODEL_64b921dc282b4c7aa630b19f9b984735"
      }
     },
     "5621a36023fa453f8d7e5b9490cc74ba": {
      "model_module": "@jupyter-widgets/base",
      "model_module_version": "1.2.0",
      "model_name": "LayoutModel",
      "state": {}
     },
     "5654c04baba74d7888f1ee144a9174d4": {
      "model_module": "@jupyter-widgets/base",
      "model_module_version": "1.2.0",
      "model_name": "LayoutModel",
      "state": {}
     },
     "58d8489d9c51423a9f66aa649b032e69": {
      "model_module": "@jupyter-widgets/controls",
      "model_module_version": "1.5.0",
      "model_name": "GridBoxModel",
      "state": {
       "children": [
        "IPY_MODEL_8fd65e888fb444fe8cd7a2ea88cbc854",
        "IPY_MODEL_3fe3ae6e47194533b270b02f4601d977"
       ],
       "layout": "IPY_MODEL_ba701651ff2f4ea1b89ea80f31bdd72d"
      }
     },
     "600d272821e6475d97fb0716688ba9c3": {
      "model_module": "@jupyter-widgets/controls",
      "model_module_version": "1.5.0",
      "model_name": "VBoxModel",
      "state": {
       "children": [
        "IPY_MODEL_cbe650884635492eb52b89d10ea71ace",
        "IPY_MODEL_35fbd2f3e772402b9b785db5ed4f3eec",
        "IPY_MODEL_3de010005de144b7bcf41af97e9abf28",
        "IPY_MODEL_81cd8e2bf9034faba9f159c0152dd943",
        "IPY_MODEL_fdb7700f5a6f40f9be50335febdf05fd"
       ],
       "layout": "IPY_MODEL_048ed1d7d5314e7395486df8a192952c"
      }
     },
     "603861379cd54b85af5ce20044d7eca7": {
      "model_module": "@jupyter-widgets/controls",
      "model_module_version": "1.5.0",
      "model_name": "VBoxModel",
      "state": {
       "children": [
        "IPY_MODEL_ba37a067a09f4ec79d5a23c925e72ae5",
        "IPY_MODEL_36472d37f49b44838e1977b29f52606c",
        "IPY_MODEL_94194e7fe31c40d7b68b4a8ee5f6b8f0",
        "IPY_MODEL_a70e17e6a122499497a069b5036e14f8",
        "IPY_MODEL_0af62120e63f4b5688004056b6762cbf",
        "IPY_MODEL_3fe3ae6e47194533b270b02f4601d977"
       ],
       "layout": "IPY_MODEL_16781f0d86af4877ac08a02345f6496c"
      }
     },
     "6260fe911b834f208293883dfa8e3a88": {
      "model_module": "@jupyter-widgets/controls",
      "model_module_version": "1.5.0",
      "model_name": "ButtonStyleModel",
      "state": {}
     },
     "62f4cfe372ef4d58a62c1ce258ea4d55": {
      "model_module": "@jupyter-widgets/base",
      "model_module_version": "1.2.0",
      "model_name": "LayoutModel",
      "state": {}
     },
     "63a68e48544d4ef7b5e775f8c28f3119": {
      "model_module": "@jupyter-widgets/controls",
      "model_module_version": "1.5.0",
      "model_name": "GridBoxModel",
      "state": {
       "children": [
        "IPY_MODEL_8fd65e888fb444fe8cd7a2ea88cbc854",
        "IPY_MODEL_3fe3ae6e47194533b270b02f4601d977"
       ],
       "layout": "IPY_MODEL_969bb5aa2c834b95aab0bb049534095c"
      }
     },
     "64b921dc282b4c7aa630b19f9b984735": {
      "model_module": "@jupyter-widgets/base",
      "model_module_version": "1.2.0",
      "model_name": "LayoutModel",
      "state": {}
     },
     "67e53ad6a1a348b09dd58e11f35ff7c4": {
      "model_module": "@jupyter-widgets/base",
      "model_module_version": "1.2.0",
      "model_name": "LayoutModel",
      "state": {}
     },
     "6b1e58607a0f44669a2b56fbeff51fcb": {
      "model_module": "@jupyter-widgets/base",
      "model_module_version": "1.2.0",
      "model_name": "LayoutModel",
      "state": {
       "grid_area": "center",
       "width": "calc(95% + 14ex)"
      }
     },
     "6e0b59883bd24487a3167a97543bb878": {
      "model_module": "@jupyter-widgets/controls",
      "model_module_version": "1.5.0",
      "model_name": "ButtonModel",
      "state": {
       "description": "Get Results",
       "layout": "IPY_MODEL_acbd1228cb7c45d5b8365613c1974d42",
       "style": "IPY_MODEL_0d1c1e046a1145fea0ec29e1f4bdb99e"
      }
     },
     "717b71adf3394711a476732f325be85b": {
      "model_module": "@jupyter-widgets/controls",
      "model_module_version": "1.5.0",
      "model_name": "VBoxModel",
      "state": {
       "children": [
        "IPY_MODEL_ba37a067a09f4ec79d5a23c925e72ae5",
        "IPY_MODEL_a4e30534374749ac909fbe117e0e8ed7",
        "IPY_MODEL_94194e7fe31c40d7b68b4a8ee5f6b8f0",
        "IPY_MODEL_36472d37f49b44838e1977b29f52606c",
        "IPY_MODEL_d53c1f1e04994a34b9c227992b3e5d80",
        "IPY_MODEL_0af62120e63f4b5688004056b6762cbf",
        "IPY_MODEL_3fe3ae6e47194533b270b02f4601d977"
       ],
       "layout": "IPY_MODEL_c5fd3a2c334f4c40a6ff0f1371de8286"
      }
     },
     "71f9fb78a5de4e41b94ee573b49923b5": {
      "model_module": "@jupyter-widgets/controls",
      "model_module_version": "1.5.0",
      "model_name": "HBoxModel",
      "state": {
       "layout": "IPY_MODEL_0b8d974f95234ee2ae69b06826a5970b"
      }
     },
     "72845a8b196140bbb270a908fa0c8579": {
      "model_module": "@jupyter-widgets/output",
      "model_module_version": "1.0.0",
      "model_name": "OutputModel",
      "state": {
       "layout": "IPY_MODEL_6b1e58607a0f44669a2b56fbeff51fcb"
      }
     },
     "769cd3ab8f224f91b26dfaf759fe7f53": {
      "model_module": "@jupyter-widgets/base",
      "model_module_version": "1.2.0",
      "model_name": "LayoutModel",
      "state": {}
     },
     "770a84db61a448018cc835ae7895ecb3": {
      "model_module": "@jupyter-widgets/base",
      "model_module_version": "1.2.0",
      "model_name": "LayoutModel",
      "state": {}
     },
     "7af6aa4e84e24b9781bef7e443f78e10": {
      "model_module": "@jupyter-widgets/base",
      "model_module_version": "1.2.0",
      "model_name": "LayoutModel",
      "state": {}
     },
     "81cd8e2bf9034faba9f159c0152dd943": {
      "model_module": "@jupyter-widgets/controls",
      "model_module_version": "1.5.0",
      "model_name": "HBoxModel",
      "state": {
       "children": [
        "IPY_MODEL_96764190df0d47f8977f6a931ba96075",
        "IPY_MODEL_3218669cf9b94e7b982dd350e04143c1"
       ],
       "layout": "IPY_MODEL_2f75880c11bf4f60bab3c4b9b2414d40"
      }
     },
     "835785188b3b41568324224645cfb880": {
      "model_module": "@jupyter-widgets/controls",
      "model_module_version": "1.5.0",
      "model_name": "ButtonModel",
      "state": {
       "description": "Get Results",
       "layout": "IPY_MODEL_9328995f5b3847379723c9f3b4873421",
       "style": "IPY_MODEL_6260fe911b834f208293883dfa8e3a88"
      }
     },
     "83d09095adf24ea9a454a7c67b122eb2": {
      "model_module": "@jupyter-widgets/base",
      "model_module_version": "1.2.0",
      "model_name": "LayoutModel",
      "state": {}
     },
     "87b33c685605462583990d137f0890ef": {
      "model_module": "@jupyter-widgets/base",
      "model_module_version": "1.2.0",
      "model_name": "LayoutModel",
      "state": {}
     },
     "8a8acebc1cc04589b9bc850828a4b026": {
      "model_module": "@jupyter-widgets/controls",
      "model_module_version": "1.5.0",
      "model_name": "GridBoxModel",
      "state": {
       "children": [
        "IPY_MODEL_8fd65e888fb444fe8cd7a2ea88cbc854",
        "IPY_MODEL_3fe3ae6e47194533b270b02f4601d977"
       ],
       "layout": "IPY_MODEL_9e3f082bc5834c2da0a1bc17454f9fd9"
      }
     },
     "8f3524b6ea994e39aeae8f619f55b3a6": {
      "model_module": "@jupyter-widgets/controls",
      "model_module_version": "1.5.0",
      "model_name": "ButtonStyleModel",
      "state": {}
     },
     "8f59fc77eafd4eb3b5b969ad8a4b54e8": {
      "model_module": "@jupyter-widgets/base",
      "model_module_version": "1.2.0",
      "model_name": "LayoutModel",
      "state": {}
     },
     "8fd65e888fb444fe8cd7a2ea88cbc854": {
      "model_module": "@jupyter-widgets/controls",
      "model_module_version": "1.5.0",
      "model_name": "TabModel",
      "state": {
       "_titles": {
        "0": "Commercial Building",
        "1": "Residential Building"
       },
       "children": [
        "IPY_MODEL_3e02266dc116465da7ee7730417aa225",
        "IPY_MODEL_9bd1ec88ca514380ae9a3ecdbe690e0a"
       ],
       "layout": "IPY_MODEL_2b6c02b5c4b140a99bf07de02ca9de05"
      }
     },
     "9328995f5b3847379723c9f3b4873421": {
      "model_module": "@jupyter-widgets/base",
      "model_module_version": "1.2.0",
      "model_name": "LayoutModel",
      "state": {}
     },
     "93dfd35b882344259b3558564986d770": {
      "model_module": "@jupyter-widgets/base",
      "model_module_version": "1.2.0",
      "model_name": "LayoutModel",
      "state": {}
     },
     "94194e7fe31c40d7b68b4a8ee5f6b8f0": {
      "model_module": "@jupyter-widgets/controls",
      "model_module_version": "1.5.0",
      "model_name": "DropdownModel",
      "state": {
       "_options_labels": [
        "Monthly",
        "Weekly"
       ],
       "description": "Setpoint Frequency:",
       "index": 0,
       "layout": "IPY_MODEL_2c1f22226b0c46b19ca2aa25acc8748d",
       "style": "IPY_MODEL_c2f4e18ed0c0408db7cbc93108c2169d"
      }
     },
     "96764190df0d47f8977f6a931ba96075": {
      "model_module": "@jupyter-widgets/controls",
      "model_module_version": "1.5.0",
      "model_name": "ButtonModel",
      "state": {
       "description": "Get Results",
       "layout": "IPY_MODEL_495639e519934594a4873066c4edf346",
       "style": "IPY_MODEL_055f4708f51e4a9c8c8cd61c04a4796d"
      }
     },
     "969bb5aa2c834b95aab0bb049534095c": {
      "model_module": "@jupyter-widgets/base",
      "model_module_version": "1.2.0",
      "model_name": "LayoutModel",
      "state": {
       "grid_template_areas": "\"left-sidebar center center\"",
       "grid_template_columns": "1fr 2fr 1fr",
       "grid_template_rows": "3fr",
       "width": "100%"
      }
     },
     "96dbe6deea324568bf94d5b553bc3165": {
      "model_module": "@jupyter-widgets/controls",
      "model_module_version": "1.5.0",
      "model_name": "GridBoxModel",
      "state": {
       "children": [
        "IPY_MODEL_8fd65e888fb444fe8cd7a2ea88cbc854",
        "IPY_MODEL_3fe3ae6e47194533b270b02f4601d977"
       ],
       "layout": "IPY_MODEL_26d42dc1c2ef4b7db3739566b94ebedb"
      }
     },
     "97bf336e237a4c2cb9bac04a61da5339": {
      "model_module": "@jupyter-widgets/controls",
      "model_module_version": "1.5.0",
      "model_name": "ButtonModel",
      "state": {
       "description": "Get Results",
       "layout": "IPY_MODEL_5654c04baba74d7888f1ee144a9174d4",
       "style": "IPY_MODEL_8f3524b6ea994e39aeae8f619f55b3a6"
      }
     },
     "9957353f2fbc40498e3b4bd708677c8e": {
      "model_module": "@jupyter-widgets/base",
      "model_module_version": "1.2.0",
      "model_name": "LayoutModel",
      "state": {}
     },
     "9bc738f80a104827a85f39d173a4a166": {
      "model_module": "@jupyter-widgets/controls",
      "model_module_version": "1.5.0",
      "model_name": "GridBoxModel",
      "state": {
       "children": [
        "IPY_MODEL_8fd65e888fb444fe8cd7a2ea88cbc854",
        "IPY_MODEL_3fe3ae6e47194533b270b02f4601d977"
       ],
       "layout": "IPY_MODEL_fe388b16a74e4728b7f634b58264856b"
      }
     },
     "9bd1ec88ca514380ae9a3ecdbe690e0a": {
      "model_module": "@jupyter-widgets/controls",
      "model_module_version": "1.5.0",
      "model_name": "VBoxModel",
      "state": {
       "children": [
        "IPY_MODEL_ba37a067a09f4ec79d5a23c925e72ae5",
        "IPY_MODEL_36472d37f49b44838e1977b29f52606c",
        "IPY_MODEL_94194e7fe31c40d7b68b4a8ee5f6b8f0",
        "IPY_MODEL_ec5885c5d8ae458bb026507896c75f13",
        "IPY_MODEL_0af62120e63f4b5688004056b6762cbf"
       ],
       "layout": "IPY_MODEL_b8b94df0f56d486b950c518cdae5a762"
      }
     },
     "9cdb14d7f7534e37821d095d77f3557f": {
      "model_module": "@jupyter-widgets/base",
      "model_module_version": "1.2.0",
      "model_name": "LayoutModel",
      "state": {}
     },
     "9e3f082bc5834c2da0a1bc17454f9fd9": {
      "model_module": "@jupyter-widgets/base",
      "model_module_version": "1.2.0",
      "model_name": "LayoutModel",
      "state": {
       "grid_template_areas": "\"left-sidebar center center\"",
       "grid_template_columns": "1fr 2fr 1fr",
       "grid_template_rows": "3fr",
       "width": "auto"
      }
     },
     "a4e30534374749ac909fbe117e0e8ed7": {
      "model_module": "@jupyter-widgets/controls",
      "model_module_version": "1.5.0",
      "model_name": "DropdownModel",
      "state": {
       "_options_labels": [
        "Naturally Ventilated",
        "Mixed Mode",
        "Air Conditioned",
        "All"
       ],
       "description": "Building Operation Mode:",
       "index": 0,
       "layout": "IPY_MODEL_769cd3ab8f224f91b26dfaf759fe7f53",
       "style": "IPY_MODEL_c0113a62911c42049a1a6cad2f85d1f5"
      }
     },
     "a5918c04f143473fb3922539a07da399": {
      "model_module": "@jupyter-widgets/controls",
      "model_module_version": "1.5.0",
      "model_name": "DescriptionStyleModel",
      "state": {
       "description_width": "initial"
      }
     },
     "a67bb1c50a61420d96d8168c49ecf983": {
      "model_module": "@jupyter-widgets/base",
      "model_module_version": "1.2.0",
      "model_name": "LayoutModel",
      "state": {}
     },
     "a70e17e6a122499497a069b5036e14f8": {
      "model_module": "@jupyter-widgets/controls",
      "model_module_version": "1.5.0",
      "model_name": "HBoxModel",
      "state": {
       "children": [
        "IPY_MODEL_97bf336e237a4c2cb9bac04a61da5339",
        "IPY_MODEL_b5ce9af27c9e4227ab1e1755eacc05a9"
       ],
       "layout": "IPY_MODEL_3bbb48fb44d147178d746e8c74c1499b"
      }
     },
     "a92a4a2e2b74434c90031544fd0660b1": {
      "model_module": "@jupyter-widgets/controls",
      "model_module_version": "1.5.0",
      "model_name": "DescriptionStyleModel",
      "state": {
       "description_width": ""
      }
     },
     "acbd1228cb7c45d5b8365613c1974d42": {
      "model_module": "@jupyter-widgets/base",
      "model_module_version": "1.2.0",
      "model_name": "LayoutModel",
      "state": {}
     },
     "b5ce9af27c9e4227ab1e1755eacc05a9": {
      "model_module": "@jupyter-widgets/output",
      "model_module_version": "1.0.0",
      "model_name": "OutputModel",
      "state": {
       "layout": "IPY_MODEL_62f4cfe372ef4d58a62c1ce258ea4d55"
      }
     },
     "b63e5be0853a496883ef9e420ee03763": {
      "model_module": "@jupyter-widgets/controls",
      "model_module_version": "1.5.0",
      "model_name": "TabModel",
      "state": {
       "_titles": {
        "0": "Commercial Building",
        "1": "Residential Building"
       },
       "children": [
        "IPY_MODEL_717b71adf3394711a476732f325be85b",
        "IPY_MODEL_603861379cd54b85af5ce20044d7eca7"
       ],
       "layout": "IPY_MODEL_f2cf839bfc584bad91d7ee8da5bba3a0"
      }
     },
     "b718bd98bcff46acba2e31e71ba8aee3": {
      "model_module": "@jupyter-widgets/controls",
      "model_module_version": "1.5.0",
      "model_name": "TabModel",
      "state": {
       "_titles": {
        "0": "Commercial Building",
        "1": "Residential Building"
       },
       "children": [
        "IPY_MODEL_bb114679175f4001966be57b50779b61",
        "IPY_MODEL_600d272821e6475d97fb0716688ba9c3"
       ],
       "layout": "IPY_MODEL_ea2467ed54fa4fb384bf34462dcdca83"
      }
     },
     "b81187a207dd4556b1cfc541b3cd0c5a": {
      "model_module": "@jupyter-widgets/base",
      "model_module_version": "1.2.0",
      "model_name": "LayoutModel",
      "state": {}
     },
     "b8b94df0f56d486b950c518cdae5a762": {
      "model_module": "@jupyter-widgets/base",
      "model_module_version": "1.2.0",
      "model_name": "LayoutModel",
      "state": {}
     },
     "ba37a067a09f4ec79d5a23c925e72ae5": {
      "model_module": "@jupyter-widgets/controls",
      "model_module_version": "1.5.0",
      "model_name": "DropdownModel",
      "state": {
       "_options_labels": [
        "Agartala",
        "Agatti Island",
        "Agra",
        "Ahmadmagar",
        "Ahmedabad",
        "Aijal",
        "Ajmer",
        "Akola",
        "Alappuzha",
        "Aligarh",
        "Allahabad",
        "Ambala ",
        "Ambikapur",
        "Amreli",
        "Amritsar",
        "Anantpur",
        "Aurangabad",
        "Bagdogra",
        "Barmer",
        "Baroda",
        "Belgaum",
        "Bengaluru",
        "Berhampore",
        "Bhagalpur",
        "Bhavnagar",
        "Bhilwara",
        "Bhopal",
        "Bhubaneshwar",
        "Bhuj",
        "Bhuntar",
        "Bijapur",
        "Bikaner",
        "Bulandshahr",
        "Burdwan",
        "Calicut",
        "Car Nicobar",
        "Chandbali",
        "Chandigarh",
        "Chennai",
        "Cherrapunji‎",
        "Chhindwara",
        "Chickmagalur",
        "Chitradurga",
        "Chittoor",
        "Chittorgarh",
        "Cooch Behar",
        "Cuttack",
        "Dabolim",
        "Daltonganj",
        "Darbhanga",
        "Darjeeling",
        "Dehradun",
        "Dehri",
        "Dharmshala",
        "Dharwad",
        "Dibrugarh",
        "Diu",
        "Ganganagar",
        "Gangtok",
        "Goalpara",
        "Gorakhpur",
        "Gulmarg",
        "Guwahati",
        "Gwalior",
        "Hamirpur",
        "Hisar",
        "Hubli",
        "Hut Bay",
        "Hyderabad",
        "Imphal",
        "Indore",
        "Jabalpur",
        "Jagdalpur",
        "Jaipur",
        "Jaisalmer",
        "Jammu",
        "Jamnagar",
        "Jamshedpur",
        "Jodhpur",
        "Jorhat",
        "Kalimpong",
        "Kanyakumari",
        "Karnal",
        "Khajuraho",
        "Khargone",
        "Kodaikanal",
        "Kohima",
        "Kolkata",
        "Kota",
        "Kozhikode",
        "Krishnanagar",
        "Kullu Manali",
        "Kurnool",
        "Leh",
        "Lengpui",
        "Long Island",
        "Lucknow",
        "Ludhiana",
        "Madurai",
        "Mahabubnagar",
        "Mangalore",
        "Maya Bandar",
        "Minicoy",
        "Mount Abu",
        "Mukteshwar",
        "Mumbai",
        "Nagpur",
        "Nancowry",
        "Nashik",
        "Nellore",
        "New Delhi",
        "Panchmarhi",
        "Panjim",
        "Pasighat",
        "Patiala",
        "Patna",
        "Periakulam",
        "Phulbani",
        "Pilani",
        "Porbandar",
        "Port Blair",
        "Puducherry",
        "Pune",
        "Raipur",
        "Rajkot",
        "Ramagundam",
        "Ranchi",
        "Ratlam",
        "Ratnagiri",
        "Raxaul",
        "Rohtak",
        "Saharanpur",
        "Salem",
        "Sambalpur",
        "Sangli",
        "Satara",
        "Sawai Madhopur",
        "Shahjahanpur",
        "Shanti Niketan",
        "Shilong",
        "Shimla",
        "Silchar",
        "Siliguri",
        "Solapur",
        "Srinagar",
        "Surat",
        "Tehri",
        "Tezpur",
        "Thanjavur",
        "Thiruvananthapuram",
        "Thrissur",
        "Tiruchchirapalli",
        "Tuticorin",
        "Udaipur",
        "Ujjain",
        "Varanasi",
        "Vellore",
        "Vengurla",
        "Veraval",
        "Vijayawada",
        "Vishakhapatnam"
       ],
       "description": "City:",
       "index": 0,
       "layout": "IPY_MODEL_dd64b1a1983547beae2aa80144452e57",
       "style": "IPY_MODEL_f703e59347ae49549840a9209cc9a72c"
      }
     },
     "ba701651ff2f4ea1b89ea80f31bdd72d": {
      "model_module": "@jupyter-widgets/base",
      "model_module_version": "1.2.0",
      "model_name": "LayoutModel",
      "state": {
       "grid_template_areas": "\"left-sidebar center center\"",
       "grid_template_columns": "1fr 2fr 1fr",
       "grid_template_rows": "3fr",
       "width": "auto"
      }
     },
     "bb114679175f4001966be57b50779b61": {
      "model_module": "@jupyter-widgets/controls",
      "model_module_version": "1.5.0",
      "model_name": "VBoxModel",
      "state": {
       "children": [
        "IPY_MODEL_cbe650884635492eb52b89d10ea71ace",
        "IPY_MODEL_0b7fb4aedd054663a9674fb80bde00fa",
        "IPY_MODEL_3de010005de144b7bcf41af97e9abf28",
        "IPY_MODEL_35fbd2f3e772402b9b785db5ed4f3eec",
        "IPY_MODEL_3c511cc7c80a4f5f8b394e186dd39f05",
        "IPY_MODEL_fdb7700f5a6f40f9be50335febdf05fd"
       ],
       "layout": "IPY_MODEL_021ff334a1584819b46330fb474c6329"
      }
     },
     "c0113a62911c42049a1a6cad2f85d1f5": {
      "model_module": "@jupyter-widgets/controls",
      "model_module_version": "1.5.0",
      "model_name": "DescriptionStyleModel",
      "state": {
       "description_width": "initial"
      }
     },
     "c052e4776b924f589456bb6c7b2c70bf": {
      "model_module": "@jupyter-widgets/output",
      "model_module_version": "1.0.0",
      "model_name": "OutputModel",
      "state": {
       "layout": "IPY_MODEL_1674a17e01844511841cddef33ed40b0"
      }
     },
     "c2f4e18ed0c0408db7cbc93108c2169d": {
      "model_module": "@jupyter-widgets/controls",
      "model_module_version": "1.5.0",
      "model_name": "DescriptionStyleModel",
      "state": {
       "description_width": "initial"
      }
     },
     "c5fd3a2c334f4c40a6ff0f1371de8286": {
      "model_module": "@jupyter-widgets/base",
      "model_module_version": "1.2.0",
      "model_name": "LayoutModel",
      "state": {}
     },
     "c721a8246e6c4eb9b4b8df819b94d4d3": {
      "model_module": "@jupyter-widgets/base",
      "model_module_version": "1.2.0",
      "model_name": "LayoutModel",
      "state": {
       "grid_template_areas": "\"left-sidebar center center\"",
       "grid_template_columns": "1fr 2fr 1fr",
       "grid_template_rows": "3fr",
       "width": "50%%"
      }
     },
     "c87ac904edec4d5d90e9938b4893f9c0": {
      "model_module": "@jupyter-widgets/controls",
      "model_module_version": "1.5.0",
      "model_name": "DescriptionStyleModel",
      "state": {
       "description_width": ""
      }
     },
     "cbe650884635492eb52b89d10ea71ace": {
      "model_module": "@jupyter-widgets/controls",
      "model_module_version": "1.5.0",
      "model_name": "DropdownModel",
      "state": {
       "_options_labels": [
        "Agartala",
        "Agatti Island",
        "Agra",
        "Ahmadmagar",
        "Ahmedabad",
        "Aijal",
        "Ajmer",
        "Akola",
        "Alappuzha",
        "Aligarh",
        "Allahabad",
        "Ambala ",
        "Ambikapur",
        "Amreli",
        "Amritsar",
        "Anantpur",
        "Aurangabad",
        "Bagdogra",
        "Barmer",
        "Baroda",
        "Belgaum",
        "Bengaluru",
        "Berhampore",
        "Bhagalpur",
        "Bhavnagar",
        "Bhilwara",
        "Bhopal",
        "Bhubaneshwar",
        "Bhuj",
        "Bhuntar",
        "Bijapur",
        "Bikaner",
        "Bulandshahr",
        "Burdwan",
        "Calicut",
        "Car Nicobar",
        "Chandbali",
        "Chandigarh",
        "Chennai",
        "Cherrapunji‎",
        "Chhindwara",
        "Chickmagalur",
        "Chitradurga",
        "Chittoor",
        "Chittorgarh",
        "Cooch Behar",
        "Cuttack",
        "Dabolim",
        "Daltonganj",
        "Darbhanga",
        "Darjeeling",
        "Dehradun",
        "Dehri",
        "Dharmshala",
        "Dharwad",
        "Dibrugarh",
        "Diu",
        "Ganganagar",
        "Gangtok",
        "Goalpara",
        "Gorakhpur",
        "Gulmarg",
        "Guwahati",
        "Gwalior",
        "Hamirpur",
        "Hisar",
        "Hubli",
        "Hut Bay",
        "Hyderabad",
        "Imphal",
        "Indore",
        "Jabalpur",
        "Jagdalpur",
        "Jaipur",
        "Jaisalmer",
        "Jammu",
        "Jamnagar",
        "Jamshedpur",
        "Jodhpur",
        "Jorhat",
        "Kalimpong",
        "Kanyakumari",
        "Karnal",
        "Khajuraho",
        "Khargone",
        "Kodaikanal",
        "Kohima",
        "Kolkata",
        "Kota",
        "Kozhikode",
        "Krishnanagar",
        "Kullu Manali",
        "Kurnool",
        "Leh",
        "Lengpui",
        "Long Island",
        "Lucknow",
        "Ludhiana",
        "Madurai",
        "Mahabubnagar",
        "Mangalore",
        "Maya Bandar",
        "Minicoy",
        "Mount Abu",
        "Mukteshwar",
        "Mumbai",
        "Nagpur",
        "Nancowry",
        "Nashik",
        "Nellore",
        "New Delhi",
        "Panchmarhi",
        "Panjim",
        "Pasighat",
        "Patiala",
        "Patna",
        "Periakulam",
        "Phulbani",
        "Pilani",
        "Porbandar",
        "Port Blair",
        "Puducherry",
        "Pune",
        "Raipur",
        "Rajkot",
        "Ramagundam",
        "Ranchi",
        "Ratlam",
        "Ratnagiri",
        "Raxaul",
        "Rohtak",
        "Saharanpur",
        "Salem",
        "Sambalpur",
        "Sangli",
        "Satara",
        "Sawai Madhopur",
        "Shahjahanpur",
        "Shanti Niketan",
        "Shilong",
        "Shimla",
        "Silchar",
        "Siliguri",
        "Solapur",
        "Srinagar",
        "Surat",
        "Tehri",
        "Tezpur",
        "Thanjavur",
        "Thiruvananthapuram",
        "Thrissur",
        "Tiruchchirapalli",
        "Tuticorin",
        "Udaipur",
        "Ujjain",
        "Varanasi",
        "Vellore",
        "Vengurla",
        "Veraval",
        "Vijayawada",
        "Vishakhapatnam"
       ],
       "description": "City:",
       "index": 0,
       "layout": "IPY_MODEL_2db4a85b31ef47d2b7f3f0f5c4d3a492",
       "style": "IPY_MODEL_c87ac904edec4d5d90e9938b4893f9c0"
      }
     },
     "ce569e15285949cfadcaf0515d0f1fc3": {
      "model_module": "@jupyter-widgets/base",
      "model_module_version": "1.2.0",
      "model_name": "LayoutModel",
      "state": {}
     },
     "d53c1f1e04994a34b9c227992b3e5d80": {
      "model_module": "@jupyter-widgets/controls",
      "model_module_version": "1.5.0",
      "model_name": "HBoxModel",
      "state": {
       "children": [
        "IPY_MODEL_835785188b3b41568324224645cfb880",
        "IPY_MODEL_19599272b43741e6861e965d19dfddbc"
       ],
       "layout": "IPY_MODEL_93dfd35b882344259b3558564986d770"
      }
     },
     "d961bda259824673a50d9caf40dd36f8": {
      "model_module": "@jupyter-widgets/base",
      "model_module_version": "1.2.0",
      "model_name": "LayoutModel",
      "state": {}
     },
     "daa359eb69dc458885cc08438f0c336b": {
      "model_module": "@jupyter-widgets/base",
      "model_module_version": "1.2.0",
      "model_name": "LayoutModel",
      "state": {
       "grid_template_areas": "\"left-sidebar center center\"",
       "grid_template_columns": "1fr 2fr 1fr",
       "grid_template_rows": "3fr",
       "width": "100%"
      }
     },
     "dd64b1a1983547beae2aa80144452e57": {
      "model_module": "@jupyter-widgets/base",
      "model_module_version": "1.2.0",
      "model_name": "LayoutModel",
      "state": {}
     },
     "e0e1d9288b974ae3bcaf5fbe2eac6f54": {
      "model_module": "@jupyter-widgets/base",
      "model_module_version": "1.2.0",
      "model_name": "LayoutModel",
      "state": {
       "grid_template_areas": "\"left-sidebar center center\"",
       "grid_template_columns": "1fr 2fr 1fr",
       "grid_template_rows": "3fr",
       "width": "auto"
      }
     },
     "e3977775d5e34cf0a24459e825cdae35": {
      "model_module": "@jupyter-widgets/controls",
      "model_module_version": "1.5.0",
      "model_name": "GridBoxModel",
      "state": {
       "children": [
        "IPY_MODEL_8fd65e888fb444fe8cd7a2ea88cbc854",
        "IPY_MODEL_3fe3ae6e47194533b270b02f4601d977"
       ],
       "layout": "IPY_MODEL_daa359eb69dc458885cc08438f0c336b"
      }
     },
     "e80920e77d3b46d6aa413fa518e4b5e5": {
      "model_module": "@jupyter-widgets/base",
      "model_module_version": "1.2.0",
      "model_name": "LayoutModel",
      "state": {
       "grid_area": "center",
       "width": "calc(95% + 14ex)"
      }
     },
     "ea2467ed54fa4fb384bf34462dcdca83": {
      "model_module": "@jupyter-widgets/base",
      "model_module_version": "1.2.0",
      "model_name": "LayoutModel",
      "state": {
       "grid_area": "left-sidebar"
      }
     },
     "eb9e6c8f42254308902d7c5d6452fcd1": {
      "model_module": "@jupyter-widgets/base",
      "model_module_version": "1.2.0",
      "model_name": "LayoutModel",
      "state": {
       "grid_template_areas": "\"left-sidebar center center\"",
       "grid_template_columns": "1fr 2fr 1fr",
       "grid_template_rows": "3fr",
       "width": "5%%"
      }
     },
     "ec5885c5d8ae458bb026507896c75f13": {
      "model_module": "@jupyter-widgets/controls",
      "model_module_version": "1.5.0",
      "model_name": "HBoxModel",
      "state": {
       "children": [
        "IPY_MODEL_97bf336e237a4c2cb9bac04a61da5339",
        "IPY_MODEL_b5ce9af27c9e4227ab1e1755eacc05a9"
       ],
       "layout": "IPY_MODEL_9957353f2fbc40498e3b4bd708677c8e"
      }
     },
     "ee97242495c1476d9752ecfc8062f091": {
      "model_module": "@jupyter-widgets/base",
      "model_module_version": "1.2.0",
      "model_name": "LayoutModel",
      "state": {
       "grid_template_areas": "\"left-sidebar left-sidebar left-sidebar\"\n\"left-sidebar left-sidebar left-sidebar\"\n\"left-sidebar left-sidebar left-sidebar\"",
       "grid_template_columns": "1fr 2fr 1fr",
       "grid_template_rows": "1fr 3fr 1fr"
      }
     },
     "f2cf839bfc584bad91d7ee8da5bba3a0": {
      "model_module": "@jupyter-widgets/base",
      "model_module_version": "1.2.0",
      "model_name": "LayoutModel",
      "state": {
       "grid_area": "left-sidebar"
      }
     },
     "f703e59347ae49549840a9209cc9a72c": {
      "model_module": "@jupyter-widgets/controls",
      "model_module_version": "1.5.0",
      "model_name": "DescriptionStyleModel",
      "state": {
       "description_width": ""
      }
     },
     "f9dcd5011df14ad5b82995d212356090": {
      "model_module": "@jupyter-widgets/controls",
      "model_module_version": "1.5.0",
      "model_name": "GridBoxModel",
      "state": {
       "children": [
        "IPY_MODEL_8fd65e888fb444fe8cd7a2ea88cbc854",
        "IPY_MODEL_3fe3ae6e47194533b270b02f4601d977"
       ],
       "layout": "IPY_MODEL_468773d803404f999e21f20fb421062f"
      }
     },
     "fdb7700f5a6f40f9be50335febdf05fd": {
      "model_module": "@jupyter-widgets/output",
      "model_module_version": "1.0.0",
      "model_name": "OutputModel",
      "state": {
       "layout": "IPY_MODEL_87b33c685605462583990d137f0890ef"
      }
     },
     "fe388b16a74e4728b7f634b58264856b": {
      "model_module": "@jupyter-widgets/base",
      "model_module_version": "1.2.0",
      "model_name": "LayoutModel",
      "state": {
       "grid_template_areas": "\"left-sidebar center center\"",
       "grid_template_columns": "1fr 2fr 1fr",
       "grid_template_rows": "3fr",
       "width": "100%"
      }
     },
     "ffddfbe1d22d4bd7a70275db9dc5453a": {
      "model_module": "@jupyter-widgets/base",
      "model_module_version": "1.2.0",
      "model_name": "LayoutModel",
      "state": {}
     }
    },
    "version_major": 2,
    "version_minor": 0
   }
  }
 },
 "nbformat": 4,
 "nbformat_minor": 5
}
